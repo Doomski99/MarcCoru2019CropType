{
 "cells": [
  {
   "cell_type": "code",
   "execution_count": 1,
   "source": [
    "import sys\n",
    "sys.path.append(\"../src\")\n",
    "sys.path.append(\"../src/models\")\n",
    "\n",
    "from models.duplo import DuPLO\n",
    "import torch\n",
    "from train import prepare_dataset\n",
    "from argparse import Namespace\n",
    "from tqdm.notebook import tqdm\n",
    "import numpy as np\n",
    "import sklearn.metrics\n",
    "import pandas as pd\n",
    "import os\n",
    "from datasets.BavarianCrops_Dataset import BavarianCropsDataset\n",
    "from train_duplo import metrics\n",
    "\n",
    "model_root = \"../models/duplo\"\n",
    "\n",
    "def merge(namespaces):\n",
    "    merged = dict()\n",
    "\n",
    "    for n in namespaces:\n",
    "        d = n.__dict__\n",
    "        for k,v in d.items():\n",
    "            merged[k]=v\n",
    "\n",
    "    return Namespace(**merged)\n",
    "\n",
    "TUM_dataset = Namespace(\n",
    "    dataset = \"BavarianCrops\",\n",
    "    trainregions = [\"holl\",\"nowa\",\"krum\"],\n",
    "    testregions = [\"holl\",\"nowa\",\"krum\"],\n",
    "    scheme=\"blocks\",\n",
    "    test_on = \"test\",\n",
    "    train_on = \"trainvalid\",\n",
    "    samplet = 70\n",
    ")\n",
    "\n",
    "GAF_dataset = Namespace(\n",
    "    dataset = \"GAFv2\",\n",
    "    trainregions = [\"holl\",\"nowa\",\"krum\"],\n",
    "    testregions = [\"holl\",\"nowa\",\"krum\"],\n",
    "    features = \"optical\",\n",
    "    scheme=\"blocks\",\n",
    "    test_on=\"test\",\n",
    "    train_on=\"train\",\n",
    "    samplet = 23\n",
    ")\n",
    "\n",
    "def setup(dataset, mode, dataroot=\"../data\", store = '/tmp/'):\n",
    "    \n",
    "    if mode == \"12classes\":\n",
    "        classmapping = os.path.join(dataroot,\"BavarianCrops\",'classmapping12.csv')\n",
    "    elif mode == \"23classes\":\n",
    "        classmapping = os.path.join(dataroot,\"BavarianCrops\",'classmapping23.csv')\n",
    "    \n",
    "    args = Namespace(batchsize=256,\n",
    "                 classmapping=classmapping,\n",
    "                 dataroot=dataroot, dataset=dataset,\n",
    "                 model='duplo',mode=None,\n",
    "                 seed=0, store=store, workers=0)\n",
    "\n",
    "    if dataset == \"BavarianCrops\":\n",
    "        args = merge([args,TUM_dataset])\n",
    "        exp = \"isprs_tum_duplo\"\n",
    "    elif dataset == \"GAFv2\":\n",
    "        args = merge([args,GAF_dataset])\n",
    "        exp = \"isprs_gaf_duplo\"\n",
    "        \n",
    "    traindataloader, testdataloader = prepare_dataset(args)\n",
    "        \n",
    "    input_dim = traindataloader.dataset.datasets[0].ndims\n",
    "    nclasses = len(traindataloader.dataset.datasets[0].classes)\n",
    "\n",
    "    device = torch.device(\"cuda\")\n",
    "    model = DuPLO(input_dim=input_dim, nclasses=nclasses, sequencelength=args.samplet, dropout=0.4)\n",
    "    model.load(f\"{model_root}/{mode}/{exp}/model.pth\")\n",
    "\n",
    "    model.to(device)\n",
    "\n",
    "    \n",
    "    return testdataloader, model\n",
    "\n",
    "def evaluate(model, dataloader):\n",
    "    stats = list()\n",
    "    model.cuda()\n",
    "    model.eval()\n",
    "    y_preds = list()\n",
    "    ys = list()\n",
    "    ids = list()\n",
    "    with torch.no_grad():\n",
    "        for idx, batch in tqdm(enumerate(dataloader),total=len(dataloader)):\n",
    "            X,y,id = batch\n",
    "            logsoftmax , *_ = model.forward(X.transpose(1,2).cuda())\n",
    "            y_pred = logsoftmax.argmax(dim=1)\n",
    "            ys.append(y.cpu().detach().numpy())\n",
    "            y_preds.append(y_pred.cpu().detach().numpy())\n",
    "            ids.append(id)\n",
    "    model.cpu()\n",
    "    return np.hstack(y_preds), np.vstack(ys)[:,0], np.hstack(ids)\n",
    "    "
   ],
   "outputs": [],
   "metadata": {}
  },
  {
   "cell_type": "code",
   "execution_count": 2,
   "source": [
    "testdataloader, model = setup(\"BavarianCrops\",\"23classes\")\n",
    "y_pred, y, ids = evaluate(model, testdataloader)\n",
    "print(sklearn.metrics.classification_report(y,y_pred))\n",
    "metrics(y,y_pred)"
   ],
   "outputs": [
    {
     "output_type": "stream",
     "name": "stdout",
     "text": [
      "Initializing BavarianCropsDataset test partition in holl\n",
      "read 23 classes\n",
      "precached dataset files found at ../data/BavarianCrops/npy/classmapping23.csv/blocks/holl/test\n",
      "loaded 9792 samples\n",
      "Dataset ../data/BavarianCrops. region holl. partition test. X:9792x(144, 13), y:(9792,) with 23 classes\n",
      "Initializing BavarianCropsDataset test partition in nowa\n",
      "read 23 classes\n",
      "precached dataset files found at ../data/BavarianCrops/npy/classmapping23.csv/blocks/nowa/test\n",
      "loaded 3572 samples\n",
      "Dataset ../data/BavarianCrops. region nowa. partition test. X:3572x(287, 13), y:(3572,) with 23 classes\n",
      "Initializing BavarianCropsDataset test partition in krum\n",
      "read 23 classes\n",
      "precached dataset files found at ../data/BavarianCrops/npy/classmapping23.csv/blocks/krum/test\n",
      "loaded 4306 samples\n",
      "Dataset ../data/BavarianCrops. region krum. partition test. X:4306x(143, 13), y:(4306,) with 23 classes\n",
      "Initializing BavarianCropsDataset trainvalid partition in holl\n",
      "read 23 classes\n",
      "precached dataset files found at ../data/BavarianCrops/npy/classmapping23.csv/blocks/holl/trainvalid\n",
      "loaded 25308 samples\n",
      "Dataset ../data/BavarianCrops. region holl. partition trainvalid. X:25308x(71, 13), y:(25308,) with 23 classes\n",
      "Initializing BavarianCropsDataset trainvalid partition in nowa\n",
      "read 23 classes\n",
      "precached dataset files found at ../data/BavarianCrops/npy/classmapping23.csv/blocks/nowa/trainvalid\n",
      "loaded 8488 samples\n",
      "Dataset ../data/BavarianCrops. region nowa. partition trainvalid. X:8488x(289, 13), y:(8488,) with 23 classes\n",
      "Initializing BavarianCropsDataset trainvalid partition in krum\n",
      "read 23 classes\n",
      "precached dataset files found at ../data/BavarianCrops/npy/classmapping23.csv/blocks/krum/trainvalid\n",
      "loaded 25368 samples\n",
      "Dataset ../data/BavarianCrops. region krum. partition trainvalid. X:25368x(71, 13), y:(25368,) with 23 classes\n",
      "setting random seed to 0\n",
      "loading model from ../models/duplo/23classes/isprs_tum_duplo/model.pth\n"
     ]
    },
    {
     "output_type": "stream",
     "name": "stderr",
     "text": [
      "/home/tanjara/.conda/envs/crop-type-mapping/lib/python3.7/site-packages/torch/nn/modules/rnn.py:51: UserWarning: dropout option adds dropout after all but last recurrent layer, so non-zero dropout expects num_layers greater than 1, but got dropout=0.4 and num_layers=1\n",
      "  \"num_layers={}\".format(dropout, num_layers))\n"
     ]
    },
    {
     "output_type": "display_data",
     "data": {
      "text/plain": [
       "  0%|          | 0/70 [00:00<?, ?it/s]"
      ],
      "application/vnd.jupyter.widget-view+json": {
       "version_major": 2,
       "version_minor": 0,
       "model_id": "486c1fe3b36d4769b1334cf7d184bd0d"
      }
     },
     "metadata": {}
    },
    {
     "output_type": "stream",
     "name": "stdout",
     "text": [
      "              precision    recall  f1-score   support\n",
      "\n",
      "           0       0.19      0.07      0.10       356\n",
      "           1       0.46      0.68      0.55       225\n",
      "           2       0.65      0.29      0.40       882\n",
      "           3       0.00      0.00      0.00       469\n",
      "           4       0.00      0.00      0.00        23\n",
      "           5       0.65      0.78      0.71       995\n",
      "           6       0.92      0.96      0.94      1917\n",
      "           7       0.00      0.00      0.00        56\n",
      "           8       0.50      0.06      0.11        16\n",
      "           9       0.38      0.08      0.14       121\n",
      "          10       0.84      0.97      0.90      9301\n",
      "          11       0.25      0.00      0.01       226\n",
      "          12       0.00      0.00      0.00        52\n",
      "          13       0.27      0.12      0.17       104\n",
      "          14       0.60      0.84      0.70       777\n",
      "          15       0.74      0.82      0.78      1017\n",
      "          16       0.53      0.38      0.44       248\n",
      "          17       0.46      0.09      0.15       466\n",
      "          18       0.84      0.36      0.50        90\n",
      "          19       0.17      0.42      0.24        12\n",
      "          20       0.93      0.86      0.89       257\n",
      "          21       0.00      0.00      0.00        27\n",
      "          22       0.60      0.09      0.16        33\n",
      "\n",
      "    accuracy                           0.79     17670\n",
      "   macro avg       0.43      0.34      0.34     17670\n",
      "weighted avg       0.74      0.79      0.75     17670\n",
      "\n"
     ]
    },
    {
     "output_type": "stream",
     "name": "stderr",
     "text": [
      "/home/tanjara/.conda/envs/crop-type-mapping/lib/python3.7/site-packages/sklearn/metrics/_classification.py:1248: UndefinedMetricWarning: Precision and F-score are ill-defined and being set to 0.0 in labels with no predicted samples. Use `zero_division` parameter to control this behavior.\n",
      "  _warn_prf(average, modifier, msg_start, len(result))\n",
      "/home/tanjara/.conda/envs/crop-type-mapping/lib/python3.7/site-packages/sklearn/metrics/_classification.py:1248: UndefinedMetricWarning: Precision and F-score are ill-defined and being set to 0.0 in labels with no predicted samples. Use `zero_division` parameter to control this behavior.\n",
      "  _warn_prf(average, modifier, msg_start, len(result))\n",
      "/home/tanjara/.conda/envs/crop-type-mapping/lib/python3.7/site-packages/sklearn/metrics/_classification.py:1248: UndefinedMetricWarning: Precision and F-score are ill-defined and being set to 0.0 in labels with no predicted samples. Use `zero_division` parameter to control this behavior.\n",
      "  _warn_prf(average, modifier, msg_start, len(result))\n",
      "/home/tanjara/.conda/envs/crop-type-mapping/lib/python3.7/site-packages/sklearn/metrics/_classification.py:1248: UndefinedMetricWarning: Precision is ill-defined and being set to 0.0 in labels with no predicted samples. Use `zero_division` parameter to control this behavior.\n",
      "  _warn_prf(average, modifier, msg_start, len(result))\n",
      "/home/tanjara/.conda/envs/crop-type-mapping/lib/python3.7/site-packages/sklearn/metrics/_classification.py:1248: UndefinedMetricWarning: Precision is ill-defined and being set to 0.0 in labels with no predicted samples. Use `zero_division` parameter to control this behavior.\n",
      "  _warn_prf(average, modifier, msg_start, len(result))\n"
     ]
    },
    {
     "output_type": "execute_result",
     "data": {
      "text/plain": [
       "{'accuracy': 0.7900396151669496,\n",
       " 'kappa': 0.6795626476440702,\n",
       " 'f1_micro': 0.7900396151669495,\n",
       " 'f1_macro': 0.342844877582905,\n",
       " 'f1_weighted': 0.747589372509714,\n",
       " 'recall_micro': 0.7900396151669496,\n",
       " 'recall_macro': 0.3417897309311548,\n",
       " 'recall_weighted': 0.7900396151669496,\n",
       " 'precision_micro': 0.7900396151669496,\n",
       " 'precision_macro': 0.4343676608558107,\n",
       " 'precision_weighted': 0.73517078259069}"
      ]
     },
     "metadata": {},
     "execution_count": 2
    }
   ],
   "metadata": {}
  },
  {
   "cell_type": "code",
   "execution_count": 3,
   "source": [
    "#test = torch.ones([ 256, 70, 13], dtype=torch.FloatTensor, device='cuda:0')\n",
    "test = torch.ones(1, 70, 13)\n",
    "logsoftmax , *_ = model.forward(test.transpose(1,2))\n",
    "y_pred = logsoftmax.argmax(dim=1)"
   ],
   "outputs": [],
   "metadata": {}
  },
  {
   "cell_type": "code",
   "execution_count": 4,
   "source": [
    "print(y_pred)"
   ],
   "outputs": [
    {
     "output_type": "stream",
     "name": "stdout",
     "text": [
      "tensor([9])\n"
     ]
    }
   ],
   "metadata": {}
  },
  {
   "cell_type": "code",
   "execution_count": 48,
   "source": [
    "crop_csv = pd.read_csv('../data/Test/random_crop1.csv')\n",
    "droped_csv = crop_csv.drop({'lat', 'lon'},axis = 1)\n",
    "droped_csv = droped_csv.iloc[0:70, :]\n",
    "print(droped_csv.head)\n",
    "tensor_crop = torch.tensor(droped_csv.values).unsqueeze(0)\n",
    "print(tensor_crop.shape)"
   ],
   "outputs": [
    {
     "output_type": "stream",
     "name": "stdout",
     "text": [
      "<bound method NDFrame.head of      Band1   Band2   Band3   Band4   Band5   Band6   Band7   Band8   Band9  \\\n",
      "0   1170.0   935.0   934.0   725.0  1131.0  2606.0  3584.0  3643.0  3832.0   \n",
      "1   1170.0   938.0   965.0   775.0  1131.0  2606.0  3584.0  3673.0  3832.0   \n",
      "2   1170.0   963.0  1000.0   796.0  1243.0  2700.0  3523.0  3509.0  3825.0   \n",
      "3   1170.0   979.0  1021.0   847.0  1243.0  2700.0  3523.0  3394.0  3825.0   \n",
      "4   1205.0   989.0  1028.0   879.0  1246.0  2642.0  3458.0  3319.0  3763.0   \n",
      "5   1205.0   989.0  1028.0   879.0  1246.0  2642.0  3458.0  3319.0  3763.0   \n",
      "6   1205.0   982.0  1006.0   873.0  1246.0  2642.0  3458.0  3350.0  3763.0   \n",
      "7   1205.0   961.0  1014.0   850.0  1209.0  2615.0  3418.0  3431.0  3749.0   \n",
      "8   1170.0   937.0   958.0   759.0  1154.0  2549.0  3451.0  3524.0  3793.0   \n",
      "9   1170.0   941.0   960.0   785.0  1154.0  2549.0  3451.0  3435.0  3793.0   \n",
      "10  1170.0   977.0   971.0   814.0  1261.0  2546.0  3293.0  3358.0  3653.0   \n",
      "11  1170.0  1004.0  1042.0   952.0  1261.0  2546.0  3293.0  3194.0  3653.0   \n",
      "12  1170.0  1004.0  1042.0   952.0  1261.0  2546.0  3293.0  3194.0  3653.0   \n",
      "13  1205.0  1000.0  1045.0   940.0  1319.0  2556.0  3287.0  3218.0  3645.0   \n",
      "14  1205.0   969.0  1014.0   891.0  1319.0  2556.0  3287.0  3345.0  3645.0   \n",
      "15  1205.0   978.0  1035.0   905.0  1319.0  2583.0  3284.0  3327.0  3596.0   \n",
      "16  1170.0   955.0   982.0   805.0  1154.0  2549.0  3451.0  3386.0  3793.0   \n",
      "17  1170.0   966.0   996.0   861.0  1154.0  2549.0  3451.0  3249.0  3793.0   \n",
      "18  1170.0   997.0  1026.0   911.0  1261.0  2546.0  3293.0  3252.0  3653.0   \n",
      "19  1170.0  1006.0  1048.0   916.0  1261.0  2546.0  3293.0  3247.0  3653.0   \n",
      "20  1170.0  1006.0  1048.0   916.0  1261.0  2546.0  3293.0  3247.0  3653.0   \n",
      "21  1205.0  1007.0  1050.0   951.0  1319.0  2556.0  3287.0  3266.0  3645.0   \n",
      "22  1205.0   985.0  1040.0   925.0  1319.0  2556.0  3287.0  3317.0  3645.0   \n",
      "23  1205.0  1006.0  1082.0   937.0  1319.0  2583.0  3284.0  3229.0  3596.0   \n",
      "24  1240.0   981.0  1004.0   901.0  1283.0  2470.0  3213.0  3275.0  3458.0   \n",
      "25  1240.0  1014.0  1044.0   986.0  1283.0  2470.0  3213.0  3113.0  3458.0   \n",
      "26  1240.0  1012.0  1060.0   969.0  1318.0  2504.0  3269.0  3190.0  3553.0   \n",
      "27  1240.0   985.0  1016.0   915.0  1318.0  2504.0  3269.0  3341.0  3553.0   \n",
      "28  1240.0   985.0  1016.0   915.0  1318.0  2504.0  3269.0  3341.0  3553.0   \n",
      "29  1285.0   994.0  1039.0   930.0  1322.0  2554.0  3339.0  3319.0  3577.0   \n",
      "30  1285.0  1014.0  1070.0   964.0  1322.0  2554.0  3339.0  3246.0  3577.0   \n",
      "31  1285.0  1015.0  1090.0   950.0  1338.0  2631.0  3303.0  3198.0  3555.0   \n",
      "32  1240.0  1015.0  1082.0   994.0  1283.0  2470.0  3213.0  3072.0  3458.0   \n",
      "33  1240.0  1028.0  1080.0  1020.0  1283.0  2470.0  3213.0  3089.0  3458.0   \n",
      "34  1240.0  1005.0  1050.0   927.0  1318.0  2504.0  3269.0  3230.0  3553.0   \n",
      "35  1240.0   998.0  1038.0   938.0  1318.0  2504.0  3269.0  3267.0  3553.0   \n",
      "36  1240.0   998.0  1038.0   938.0  1318.0  2504.0  3269.0  3267.0  3553.0   \n",
      "37  1285.0  1014.0  1060.0   949.0  1322.0  2554.0  3339.0  3210.0  3577.0   \n",
      "38  1285.0  1014.0  1087.0   971.0  1322.0  2554.0  3339.0  3168.0  3577.0   \n",
      "39  1285.0  1005.0  1074.0   950.0  1338.0  2631.0  3303.0  3169.0  3555.0   \n",
      "\n",
      "    Band10  Band11  Band12  Band13  \n",
      "0   1233.0    18.0  1470.0   790.0  \n",
      "1   1233.0    18.0  1470.0   790.0  \n",
      "2   1233.0    18.0  1581.0   874.0  \n",
      "3   1233.0    18.0  1581.0   874.0  \n",
      "4   1212.0    19.0  1617.0   894.0  \n",
      "5   1212.0    19.0  1617.0   894.0  \n",
      "6   1212.0    19.0  1617.0   894.0  \n",
      "7   1212.0    19.0  1583.0   881.0  \n",
      "8   1233.0    18.0  1542.0   857.0  \n",
      "9   1233.0    18.0  1542.0   857.0  \n",
      "10  1233.0    18.0  1660.0   949.0  \n",
      "11  1233.0    18.0  1660.0   949.0  \n",
      "12  1233.0    18.0  1660.0   949.0  \n",
      "13  1212.0    19.0  1704.0   974.0  \n",
      "14  1212.0    19.0  1704.0   974.0  \n",
      "15  1212.0    19.0  1714.0  1009.0  \n",
      "16  1233.0    18.0  1542.0   857.0  \n",
      "17  1233.0    18.0  1542.0   857.0  \n",
      "18  1233.0    18.0  1660.0   949.0  \n",
      "19  1233.0    18.0  1660.0   949.0  \n",
      "20  1233.0    18.0  1660.0   949.0  \n",
      "21  1212.0    19.0  1704.0   974.0  \n",
      "22  1212.0    19.0  1704.0   974.0  \n",
      "23  1212.0    19.0  1714.0  1009.0  \n",
      "24  1115.0    18.0  1717.0  1016.0  \n",
      "25  1115.0    18.0  1717.0  1016.0  \n",
      "26  1115.0    18.0  1748.0  1023.0  \n",
      "27  1115.0    18.0  1748.0  1023.0  \n",
      "28  1115.0    18.0  1748.0  1023.0  \n",
      "29  1169.0    20.0  1745.0   994.0  \n",
      "30  1169.0    20.0  1745.0   994.0  \n",
      "31  1169.0    20.0  1842.0  1093.0  \n",
      "32  1115.0    18.0  1717.0  1016.0  \n",
      "33  1115.0    18.0  1717.0  1016.0  \n",
      "34  1115.0    18.0  1748.0  1023.0  \n",
      "35  1115.0    18.0  1748.0  1023.0  \n",
      "36  1115.0    18.0  1748.0  1023.0  \n",
      "37  1169.0    20.0  1745.0   994.0  \n",
      "38  1169.0    20.0  1745.0   994.0  \n",
      "39  1169.0    20.0  1842.0  1093.0  >\n",
      "torch.Size([1, 40, 13])\n"
     ]
    }
   ],
   "metadata": {}
  },
  {
   "cell_type": "code",
   "execution_count": 40,
   "source": [
    "logsoftmax , *_ = model.forward(tensor_crop.float().transpose(1,2))\n",
    "y_pred = logsoftmax.argmax(dim=1)\n",
    "print(y_pred)"
   ],
   "outputs": [
    {
     "output_type": "stream",
     "name": "stdout",
     "text": [
      "tensor([15])\n"
     ]
    }
   ],
   "metadata": {}
  },
  {
   "cell_type": "code",
   "execution_count": 24,
   "source": [
    "#RNN MODEL\n",
    "import sys\n",
    "import os\n",
    "\n",
    "\n",
    "sys.path.append(\"../src\")\n",
    "sys.path.append(\"../src/models\")\n",
    "\n",
    "import matplotlib.pyplot as plt\n",
    "from matplotlib.lines import Line2D\n",
    "import seaborn as sns\n",
    "import numpy as np\n",
    "from rnn import RNN\n",
    "import torch\n",
    "import torch.nn.functional as F\n",
    "import tqdm\n",
    "from torch import matmul, sigmoid, tanh\n",
    "\n",
    "sns.set_style(\"whitegrid\")\n",
    "\n",
    "BANDS = ['B1', 'B10', 'B11', 'B12', 'B2', 'B3', 'B4', 'B5', 'B6', 'B7', 'B8',\n",
    "       'B8A', 'B9']\n",
    "\n",
    "# simulate no GPU (for checks like torch.cuda.is_available())\n",
    "os.environ[\"CUDA_VISIBLE_DEVICES\"] = \"\""
   ],
   "outputs": [],
   "metadata": {}
  },
  {
   "cell_type": "code",
   "execution_count": 44,
   "source": [
    "modelRNN = RNN(input_dim=13, nclasses=33, hidden_dims=32,\n",
    "                      num_rnn_layers=4, dropout=0.710883, bidirectional=True)\n",
    "modelRNN.load(\"../data/notebookdata/rnn.pth\")\n",
    "modelRNN.eval()"
   ],
   "outputs": [
    {
     "output_type": "stream",
     "name": "stdout",
     "text": [
      "loading model from ../data/notebookdata/rnn.pth\n"
     ]
    },
    {
     "output_type": "execute_result",
     "data": {
      "text/plain": [
       "RNN(\n",
       "  (inlayernorm): LayerNorm((13,), eps=1e-05, elementwise_affine=True)\n",
       "  (clayernorm): LayerNorm((256,), eps=1e-05, elementwise_affine=True)\n",
       "  (lstm): LSTM(13, 32, num_layers=4, bias=False, batch_first=True, dropout=0.710883, bidirectional=True)\n",
       "  (linear_class): Linear(in_features=256, out_features=33, bias=True)\n",
       ")"
      ]
     },
     "metadata": {},
     "execution_count": 44
    }
   ],
   "metadata": {}
  },
  {
   "cell_type": "code",
   "execution_count": 49,
   "source": [
    "logsoftmax , *_ = modelRNN.forward(tensor_crop.float().transpose(1,2))\n",
    "y_pred = logsoftmax.argmax(dim=1)\n",
    "print(y_pred)"
   ],
   "outputs": [
    {
     "output_type": "stream",
     "name": "stdout",
     "text": [
      "tensor([22])\n"
     ]
    }
   ],
   "metadata": {}
  },
  {
   "cell_type": "code",
   "execution_count": null,
   "source": [],
   "outputs": [],
   "metadata": {}
  }
 ],
 "metadata": {
  "orig_nbformat": 4,
  "language_info": {
   "name": "python",
   "version": "3.7.3",
   "mimetype": "text/x-python",
   "codemirror_mode": {
    "name": "ipython",
    "version": 3
   },
   "pygments_lexer": "ipython3",
   "nbconvert_exporter": "python",
   "file_extension": ".py"
  },
  "kernelspec": {
   "name": "python3",
   "display_name": "Python 3.7.3 64-bit ('crop-type-mapping': conda)"
  },
  "interpreter": {
   "hash": "2ea37158e581c84da49f57675e0e248ae8eec3c7a5c1d14d345d6b290b33a157"
  }
 },
 "nbformat": 4,
 "nbformat_minor": 2
}
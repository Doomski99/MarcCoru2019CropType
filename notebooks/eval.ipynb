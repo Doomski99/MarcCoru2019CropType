{
 "cells": [
  {
   "cell_type": "code",
   "execution_count": 1,
   "metadata": {},
   "outputs": [],
   "source": [
    "import torch\n",
    "import sys\n",
    "sys.path.append(\"../src\")\n",
    "sys.path.append(\"../src/models\")\n",
    "from train import getModel, prepare_dataset\n",
    "from experiments import experiments\n",
    "import argparse\n",
    "import tqdm\n",
    "import numpy as np\n",
    "from datasets.ConcatDataset import ConcatDataset\n",
    "import pandas as pd\n",
    "import geopandas as gpd\n",
    "import sklearn.metrics"
   ]
  },
  {
   "cell_type": "code",
   "execution_count": 2,
   "metadata": {},
   "outputs": [],
   "source": [
    "def evaluate(model, dataloader):\n",
    "\n",
    "    probaslist = list()\n",
    "    targetslist = list()\n",
    "    idslist = list()\n",
    "    for iteration, data in tqdm.tqdm(enumerate(dataloader)):\n",
    "        inputs, targets, ids = data\n",
    "        if torch.cuda.is_available():\n",
    "            inputs = inputs.cuda()\n",
    "            targets = targets.cuda()\n",
    "\n",
    "        logprobabilities, deltas, pts, budget = model.forward(inputs.transpose(1, 2))\n",
    "        probaslist.append(logprobabilities.exp().cpu().detach().numpy())\n",
    "        targetslist.append(targets.cpu().detach().numpy())\n",
    "        idslist.append(ids.numpy())\n",
    "\n",
    "    ids = np.hstack(idslist)\n",
    "    probas = np.vstack(probaslist)\n",
    "    targets = np.vstack(targetslist)[:,0]\n",
    "\n",
    "    return ids, targets, probas\n",
    "\n",
    "def save_csv(ids, targets, probas, outpath):\n",
    "    index = [\"id\",\"label\",\"prediction\"] + [\"class_\"+str(idx) for idx in range(probas.shape[1])]\n",
    "    df = pd.DataFrame([ids,targets,probas.argmax(1)]+[probas[:,idx] for idx in range(probas.shape[1])], index=index).T.set_index(\"id\")\n",
    "    df.index = df.index.astype(int)\n",
    "    df.label = df.label.astype(int)\n",
    "    df.prediction = df.prediction.astype(int)\n",
    "    print(\"saving \"+outpath)\n",
    "    df.to_csv(outpath,float_format=\"%.4f\")\n",
    "    \n",
    "def build_probas_df(probas, targets, ids):\n",
    "\n",
    "    probas_df = pd.DataFrame(probas, columns=[\"prob_\"+str(cl) for cl in np.arange(probas.shape[1])], index=ids)\n",
    "    onehot = np.eye(probas.shape[1]).astype(bool)\n",
    "    probas_df[\"pred\"] = probas.argsort()[:,-1]\n",
    "    probas_df[\"pred\"].astype(int)\n",
    "    assert (probas.argsort()[:,-1] == probas.argmax(1)).all()\n",
    "    probas_df[\"pred2nd\"] = probas.argsort()[:,-2]\n",
    "\n",
    "    probas_df[\"prob2nd\"] = probas[onehot[probas_df[\"pred2nd\"].values]]\n",
    "    probas_df[\"prob2nd\"].astype(int)\n",
    "    probas_df[\"maxprob\"] = probas[onehot[probas_df[\"pred\"].values]]\n",
    "    probas_df[\"maxprob\"].astype(int)\n",
    "\n",
    "    probas_df[\"GRPGRPSTM\"] = targets\n",
    "    probas_df[\"GRPGRPSTM\"].astype(int)\n",
    "    probas_df[\"correct_prediction\"] = probas_df[\"GRPGRPSTM\"] == probas_df[\"pred\"]\n",
    "\n",
    "    probas_df[\"score_correct\"] = probas[onehot[probas_df[\"GRPGRPSTM\"].values]]\n",
    "    \n",
    "    return probas_df\n",
    "\n",
    "holl = gpd.read_file(\"/data/BavarianCrops/shp/HOLL_2018_MT_pilot.shp\").set_index(\"ID\")\n",
    "krum = gpd.read_file(\"/data/BavarianCrops/shp/KRUM_2018_MT_pilot.shp\").set_index(\"ID\")\n",
    "nowa = gpd.read_file(\"/data/BavarianCrops/shp/NOWA_2018_MT_pilot.shp\").set_index(\"ID\")"
   ]
  },
  {
   "cell_type": "code",
   "execution_count": 3,
   "metadata": {
    "scrolled": true
   },
   "outputs": [
    {
     "ename": "ValueError",
     "evalue": "Wrong experiment name tumgaf_gafall_msresnet!",
     "output_type": "error",
     "traceback": [
      "\u001b[0;31m---------------------------------------------------------------------------\u001b[0m",
      "\u001b[0;31mValueError\u001b[0m                                Traceback (most recent call last)",
      "\u001b[0;32m<ipython-input-3-27c9e1ef15dd>\u001b[0m in \u001b[0;36m<module>\u001b[0;34m\u001b[0m\n\u001b[1;32m      3\u001b[0m \u001b[0;34m\u001b[0m\u001b[0m\n\u001b[1;32m      4\u001b[0m     \u001b[0margs\u001b[0m \u001b[0;34m=\u001b[0m \u001b[0margparse\u001b[0m\u001b[0;34m.\u001b[0m\u001b[0mNamespace\u001b[0m\u001b[0;34m(\u001b[0m\u001b[0mexperiment\u001b[0m\u001b[0;34m=\u001b[0m\u001b[0mexperiment\u001b[0m\u001b[0;34m,\u001b[0m \u001b[0mseed\u001b[0m\u001b[0;34m=\u001b[0m\u001b[0;36m0\u001b[0m\u001b[0;34m,\u001b[0m \u001b[0mbatchsize\u001b[0m\u001b[0;34m=\u001b[0m\u001b[0;36m256\u001b[0m\u001b[0;34m,\u001b[0m \u001b[0mworkers\u001b[0m\u001b[0;34m=\u001b[0m\u001b[0;36m0\u001b[0m\u001b[0;34m)\u001b[0m\u001b[0;34m\u001b[0m\u001b[0;34m\u001b[0m\u001b[0m\n\u001b[0;32m----> 5\u001b[0;31m     \u001b[0margs\u001b[0m \u001b[0;34m=\u001b[0m \u001b[0mexperiments\u001b[0m\u001b[0;34m(\u001b[0m\u001b[0margs\u001b[0m\u001b[0;34m)\u001b[0m\u001b[0;34m\u001b[0m\u001b[0;34m\u001b[0m\u001b[0m\n\u001b[0m\u001b[1;32m      6\u001b[0m \u001b[0;34m\u001b[0m\u001b[0m\n\u001b[1;32m      7\u001b[0m     \u001b[0mtraindataloader\u001b[0m\u001b[0;34m,\u001b[0m \u001b[0mtestdataloader\u001b[0m \u001b[0;34m=\u001b[0m \u001b[0mprepare_dataset\u001b[0m\u001b[0;34m(\u001b[0m\u001b[0margs\u001b[0m\u001b[0;34m)\u001b[0m\u001b[0;34m\u001b[0m\u001b[0;34m\u001b[0m\u001b[0m\n",
      "\u001b[0;32m~/projects/crop-type-mapping/src/experiments.py\u001b[0m in \u001b[0;36mexperiments\u001b[0;34m(args)\u001b[0m\n\u001b[1;32m    126\u001b[0m         \u001b[0;32mreturn\u001b[0m \u001b[0margs\u001b[0m\u001b[0;34m\u001b[0m\u001b[0;34m\u001b[0m\u001b[0m\n\u001b[1;32m    127\u001b[0m     \u001b[0;32melse\u001b[0m\u001b[0;34m:\u001b[0m\u001b[0;34m\u001b[0m\u001b[0;34m\u001b[0m\u001b[0m\n\u001b[0;32m--> 128\u001b[0;31m         \u001b[0;32mraise\u001b[0m \u001b[0mValueError\u001b[0m\u001b[0;34m(\u001b[0m\u001b[0;34mf\"Wrong experiment name {args.experiment}!\"\u001b[0m\u001b[0;34m)\u001b[0m\u001b[0;34m\u001b[0m\u001b[0;34m\u001b[0m\u001b[0m\n\u001b[0m\u001b[1;32m    129\u001b[0m \u001b[0;34m\u001b[0m\u001b[0m\n\u001b[1;32m    130\u001b[0m \u001b[0;34m\u001b[0m\u001b[0m\n",
      "\u001b[0;31mValueError\u001b[0m: Wrong experiment name tumgaf_gafall_msresnet!"
     ]
    }
   ],
   "source": [
    "experiment=\"tumgaf_gaf_transformer\" # \"tumgaf_gafall_rnn\", , \"tumgaf_gafall_transformer\"  \n",
    "for experiment in [\"tumgaf_gafall_msresnet\"]:\n",
    "    \n",
    "    args = argparse.Namespace(experiment=experiment, seed=0, batchsize=256, workers=0)\n",
    "    args = experiments(args)\n",
    "\n",
    "    traindataloader, testdataloader = prepare_dataset(args)\n",
    "\n",
    "    dataset = ConcatDataset([traindataloader.dataset, testdataloader.dataset])\n",
    "    dataloader = torch.utils.data.DataLoader(dataset=dataset,batch_size=args.batchsize, num_workers=args.workers)\n",
    "\n",
    "    args.nclasses = traindataloader.dataset.nclasses\n",
    "    classname = traindataloader.dataset.classname\n",
    "    klassenname = traindataloader.dataset.klassenname\n",
    "    args.seqlength = traindataloader.dataset.sequencelength\n",
    "    #args.seqlength = args.samplet\n",
    "    args.input_dims = traindataloader.dataset.ndims\n",
    "\n",
    "    model = getModel(args)\n",
    "    model.load(f\"/data/gaf/runsv3/{experiment}/model.pth\")\n",
    "\n",
    "    ids_train, targets_train, probas_train = evaluate(model, traindataloader)\n",
    "    #save_csv(ids_train, targets_train, probas_train, f\"/tmp/{experiment}_train.csv\")\n",
    "    df_train = build_probas_df(probas_train, targets_train, ids_train)\n",
    "    #shp = shp.join(df_train, on=\"ID\")\n",
    "\n",
    "    ids_test, targets_test, probas_test = evaluate(model, testdataloader)\n",
    "    df_test = build_probas_df(probas_test, targets_test, ids_test)\n",
    "    \n",
    "    df = pd.concat([df_train,df_test])\n",
    "    \n",
    "    #shp = gpd.read_file(\"/data/BavarianCrops/shp/HOLL_2018_MT_pilot.shp\").set_index(\"ID\")\n",
    "    shp = pd.concat([holl,krum,nowa])\n",
    "    shp = shp.join(df, on=\"ID\")\n",
    "    \n",
    "    print(f\"saving /tmp/gaf/{experiment}.shp\")\n",
    "    shp.to_file(f\"/tmp/gaf/{experiment}.shp\",driver = 'ESRI Shapefile')\n",
    "    \n",
    "    print(sklearn.metrics.classification_report(df.GRPGRPSTM, df.pred),\n",
    "          file=open(f\"/tmp/gaf/{experiment}_report_all.txt\",'w'))\n",
    "    print(sklearn.metrics.classification_report(df_train.GRPGRPSTM, df_train.pred),\n",
    "          file=open(f\"/tmp/gaf/{experiment}_report_train.txt\",'w'))\n",
    "    print(sklearn.metrics.classification_report(df_test.GRPGRPSTM, df_test.pred),\n",
    "          file=open(f\"/tmp/gaf/{experiment}_report_test.txt\",'w'))\n",
    "    #save_csv(ids_train, targets_train, probas_train, f\"/tmp/{experiment}_test.csv\")"
   ]
  },
  {
   "cell_type": "code",
   "execution_count": null,
   "metadata": {},
   "outputs": [],
   "source": [
    "model"
   ]
  },
  {
   "cell_type": "code",
   "execution_count": null,
   "metadata": {},
   "outputs": [],
   "source": [
    "!cat /tmp/test.txt"
   ]
  },
  {
   "cell_type": "code",
   "execution_count": null,
   "metadata": {},
   "outputs": [],
   "source": [
    "traindataloader.dataset.classes"
   ]
  },
  {
   "cell_type": "code",
   "execution_count": null,
   "metadata": {},
   "outputs": [],
   "source": [
    "model"
   ]
  },
  {
   "cell_type": "code",
   "execution_count": null,
   "metadata": {},
   "outputs": [],
   "source": [
    "!ls /data/gaf/runsv3/tumgaf_gaf_msresnet"
   ]
  },
  {
   "cell_type": "code",
   "execution_count": null,
   "metadata": {},
   "outputs": [],
   "source": [
    "log = pd.read_csv(\"/data/gaf/runsv3/tumgaf_gaf_msresnet/log.csv\")\n",
    "log.loc[log[\"mode\"]==\"test\"].sort_values(by=\"kappa\", ascending=False).iloc[0].epoch"
   ]
  },
  {
   "cell_type": "code",
   "execution_count": null,
   "metadata": {},
   "outputs": [],
   "source": [
    "probas_df"
   ]
  },
  {
   "cell_type": "code",
   "execution_count": null,
   "metadata": {},
   "outputs": [],
   "source": [
    "print(\"\\n\".join(traindataloader.dataset.classname))"
   ]
  },
  {
   "cell_type": "code",
   "execution_count": null,
   "metadata": {},
   "outputs": [],
   "source": []
  }
 ],
 "metadata": {
  "kernelspec": {
   "display_name": "Python 3",
   "language": "python",
   "name": "python3"
  },
  "language_info": {
   "codemirror_mode": {
    "name": "ipython",
    "version": 3
   },
   "file_extension": ".py",
   "mimetype": "text/x-python",
   "name": "python",
   "nbconvert_exporter": "python",
   "pygments_lexer": "ipython3",
   "version": "3.7.3"
  }
 },
 "nbformat": 4,
 "nbformat_minor": 2
}

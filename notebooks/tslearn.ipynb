{
 "cells": [
  {
   "cell_type": "code",
   "execution_count": 43,
   "metadata": {},
   "outputs": [],
   "source": [
    "import sys\n",
    "sys.path.append(\"../src\")\n",
    "sys.path.append(\"../src/models\")\n",
    "import sklearn\n",
    "import tslearn\n",
    "import argparse\n",
    "from train import prepare_dataset\n",
    "from experiments import experiments\n",
    "import tqdm\n",
    "import numpy as np\n",
    "from tslearn.svm import TimeSeriesSVC\n",
    "from sklearn.model_selection import cross_val_score\n",
    "from sklearn.model_selection import cross_validate\n",
    "from sklearn.metrics import classification_report\n",
    "from utils.classmetric import confusion_matrix_to_accuraccies\n",
    "from sklearn.metrics import confusion_matrix\n",
    "\n",
    "from tslearn.utils import to_time_series_dataset\n",
    "from time import time\n",
    "from sklearn.model_selection import RandomizedSearchCV\n",
    "import scipy\n",
    "from sklearn.ensemble import RandomForestClassifier\n",
    "\n",
    "from utils.data2numpy import get_data\n",
    "\n",
    "def flatten(x):\n",
    "    return x.reshape(x.shape[0], -1)"
   ]
  },
  {
   "cell_type": "code",
   "execution_count": 9,
   "metadata": {
    "scrolled": true
   },
   "outputs": [
    {
     "name": "stdout",
     "output_type": "stream",
     "text": [
      "Initializing BavarianCropsDataset test partition in holl\n",
      "read 23 classes\n",
      "precached dataset files found at /data/BavarianCrops/npy/classmapping.isprs.csv/blocks/holl/test\n",
      "loaded 9792 samples\n",
      "Dataset /data/BavarianCrops. region holl. partition test. X:9792x(144, 13), y:(9792,) with 23 classes\n",
      "Initializing BavarianCropsDataset test partition in nowa\n",
      "read 23 classes\n",
      "precached dataset files found at /data/BavarianCrops/npy/classmapping.isprs.csv/blocks/nowa/test\n",
      "loaded 3572 samples\n",
      "Dataset /data/BavarianCrops. region nowa. partition test. X:3572x(287, 13), y:(3572,) with 23 classes\n",
      "Initializing BavarianCropsDataset test partition in krum\n",
      "read 23 classes\n",
      "precached dataset files found at /data/BavarianCrops/npy/classmapping.isprs.csv/blocks/krum/test\n",
      "loaded 4306 samples\n",
      "Dataset /data/BavarianCrops. region krum. partition test. X:4306x(143, 13), y:(4306,) with 23 classes\n",
      "Initializing BavarianCropsDataset trainvalid partition in holl\n",
      "read 23 classes\n",
      "precached dataset files found at /data/BavarianCrops/npy/classmapping.isprs.csv/blocks/holl/trainvalid\n",
      "loaded 25308 samples\n",
      "Dataset /data/BavarianCrops. region holl. partition trainvalid. X:25308x(71, 13), y:(25308,) with 23 classes\n",
      "Initializing BavarianCropsDataset trainvalid partition in nowa\n",
      "read 23 classes\n",
      "precached dataset files found at /data/BavarianCrops/npy/classmapping.isprs.csv/blocks/nowa/trainvalid\n",
      "loaded 8488 samples\n",
      "Dataset /data/BavarianCrops. region nowa. partition trainvalid. X:8488x(289, 13), y:(8488,) with 23 classes\n",
      "Initializing BavarianCropsDataset trainvalid partition in krum\n",
      "read 23 classes\n",
      "precached dataset files found at /data/BavarianCrops/npy/classmapping.isprs.csv/blocks/krum/trainvalid\n"
     ]
    },
    {
     "name": "stderr",
     "output_type": "stream",
     "text": [
      "4it [00:00, 33.05it/s]"
     ]
    },
    {
     "name": "stdout",
     "output_type": "stream",
     "text": [
      "loaded 25368 samples\n",
      "Dataset /data/BavarianCrops. region krum. partition trainvalid. X:25368x(71, 13), y:(25368,) with 23 classes\n",
      "setting random seed to 0\n"
     ]
    },
    {
     "name": "stderr",
     "output_type": "stream",
     "text": [
      "232it [00:05, 41.11it/s]\n",
      "70it [00:01, 41.41it/s]\n"
     ]
    },
    {
     "name": "stdout",
     "output_type": "stream",
     "text": [
      "Initializing BavarianCropsDataset test partition in holl\n",
      "read 23 classes\n",
      "precached dataset files found at /data/BavarianCrops/npy/classmapping.isprs.csv/blocks/holl/test\n",
      "loaded 9792 samples\n",
      "Dataset /data/BavarianCrops. region holl. partition test. X:9792x(144, 13), y:(9792,) with 23 classes\n",
      "Initializing BavarianCropsDataset test partition in nowa\n",
      "read 23 classes\n",
      "precached dataset files found at /data/BavarianCrops/npy/classmapping.isprs.csv/blocks/nowa/test\n",
      "loaded 3572 samples\n",
      "Dataset /data/BavarianCrops. region nowa. partition test. X:3572x(287, 13), y:(3572,) with 23 classes\n",
      "Initializing BavarianCropsDataset test partition in krum\n",
      "read 23 classes\n",
      "precached dataset files found at /data/BavarianCrops/npy/classmapping.isprs.csv/blocks/krum/test\n",
      "loaded 4306 samples\n",
      "Dataset /data/BavarianCrops. region krum. partition test. X:4306x(143, 13), y:(4306,) with 23 classes\n",
      "Initializing BavarianCropsDataset trainvalid partition in holl\n",
      "read 23 classes\n",
      "precached dataset files found at /data/BavarianCrops/npy/classmapping.isprs.csv/blocks/holl/trainvalid\n",
      "loaded 25308 samples\n",
      "Dataset /data/BavarianCrops. region holl. partition trainvalid. X:25308x(71, 13), y:(25308,) with 23 classes\n",
      "Initializing BavarianCropsDataset trainvalid partition in nowa\n",
      "read 23 classes\n",
      "precached dataset files found at /data/BavarianCrops/npy/classmapping.isprs.csv/blocks/nowa/trainvalid\n",
      "loaded 8488 samples\n",
      "Dataset /data/BavarianCrops. region nowa. partition trainvalid. X:8488x(289, 13), y:(8488,) with 23 classes\n",
      "Initializing BavarianCropsDataset trainvalid partition in krum\n",
      "read 23 classes\n",
      "precached dataset files found at /data/BavarianCrops/npy/classmapping.isprs.csv/blocks/krum/trainvalid\n"
     ]
    },
    {
     "name": "stderr",
     "output_type": "stream",
     "text": [
      "5it [00:00, 41.82it/s]"
     ]
    },
    {
     "name": "stdout",
     "output_type": "stream",
     "text": [
      "loaded 25368 samples\n",
      "Dataset /data/BavarianCrops. region krum. partition trainvalid. X:25368x(71, 13), y:(25368,) with 23 classes\n",
      "setting random seed to 0\n"
     ]
    },
    {
     "name": "stderr",
     "output_type": "stream",
     "text": [
      "232it [00:05, 40.54it/s]\n",
      "70it [00:01, 40.31it/s]\n"
     ]
    }
   ],
   "source": [
    "tum_ds = get_data(\"isprs_rf_tum\", N_per_class=500, N_largest=None, do_add_spectral_indices=True)\n",
    "gaf_ds = get_data(\"isprs_rf_tum\", N_per_class=500, N_largest=None, do_add_spectral_indices=True)\n"
   ]
  },
  {
   "cell_type": "markdown",
   "metadata": {},
   "source": [
    "# Support Vector Machine"
   ]
  },
  {
   "cell_type": "markdown",
   "metadata": {},
   "source": [
    "## TUM dataset"
   ]
  },
  {
   "cell_type": "code",
   "execution_count": 38,
   "metadata": {
    "scrolled": true
   },
   "outputs": [
    {
     "name": "stdout",
     "output_type": "stream",
     "text": [
      "{'C': 27.448148872828842, 'gamma': 0.12838814399925444, 'kernel': 'rbf'} score: 0.01367283649913995\n",
      "{'C': 79.587450816311, 'gamma': 0.12559307629658378, 'kernel': 'rbf'} score: 0.02258925586333583\n"
     ]
    }
   ],
   "source": [
    "!cat /data/isprs/sklearn/svm_tum.txt\n",
    "#svm_tum_params = {'C': 34.94762791972138, 'gamma': 0.09632187442535493, 'kernel': 'rbf'}\n",
    "#svm_tum_params ={'C': 219.5746177088989, 'gamma': 0.030512293944411368, 'kernel': 'rbf'}\n",
    "svm_tum_params ={'C': 219.5746177088989, 'gamma': 0.030512293944411368, 'kernel': 'rbf'}\n",
    "!cat /data/isprs/sklearn/svm_gaf.txt\n",
    "svm_gaf_params = {'C': 83.60975452306279, 'gamma': 0.03084148398718425, 'kernel': 'rbf'}"
   ]
  },
  {
   "cell_type": "code",
   "execution_count": 39,
   "metadata": {},
   "outputs": [
    {
     "name": "stdout",
     "output_type": "stream",
     "text": [
      "                     precision    recall  f1-score   support\n",
      "\n",
      "             fallow       0.00      0.00      0.00       356\n",
      "      fallow+flower       0.00      0.00      0.00       225\n",
      "            alfalfa       0.00      0.00      0.00       500\n",
      "          grassland       0.00      0.00      0.00       469\n",
      "      proteinplants       0.00      0.00      0.00        23\n",
      "       winter wheat       0.00      0.00      0.00       500\n",
      "               corn       0.00      0.00      0.00       500\n",
      "       summer wheat       0.00      0.00      0.00        56\n",
      "           beetroot       0.00      0.00      0.00        16\n",
      "            potatoe       0.00      0.00      0.00       121\n",
      "grassland+machining       0.00      0.00      0.00       500\n",
      "   grassland+cattle       0.00      0.00      0.00       226\n",
      "       winter spelt       0.00      0.00      0.00        52\n",
      "         winter rye       0.00      0.00      0.00       104\n",
      "      winter barley       0.00      0.00      0.00       500\n",
      "      summer barley       0.00      0.00      0.00       500\n",
      "         summer oat       0.00      0.00      0.00       248\n",
      "   winter triticale       0.00      0.00      0.00       466\n",
      "               peas       0.00      0.00      0.00        90\n",
      "              beans       0.00      0.00      0.00        12\n",
      "           rapeseed       0.04      1.00      0.09       257\n",
      "         summeroats       0.00      0.00      0.00        27\n",
      "    wintertriticale       0.00      0.00      0.00        33\n",
      "\n",
      "           accuracy                           0.04      5781\n",
      "          macro avg       0.00      0.04      0.00      5781\n",
      "       weighted avg       0.00      0.04      0.00      5781\n",
      "\n",
      "overall accuracy = 0.04, kappa = 0.00, precision = 0.00, recall=0.04, f1=0.00\n"
     ]
    },
    {
     "name": "stderr",
     "output_type": "stream",
     "text": [
      "/home/marc/miniconda3/envs/tslearn/lib/python3.7/site-packages/sklearn/metrics/classification.py:1437: UndefinedMetricWarning: Precision and F-score are ill-defined and being set to 0.0 in labels with no predicted samples.\n",
      "  'precision', 'predicted', average, warn_for)\n"
     ]
    }
   ],
   "source": [
    "X,y,ids, Xtest, ytest, idstest, classnames, class_idxs = tum_ds\n",
    "\n",
    "clf = TimeSeriesSVC(n_jobs=8,**svm_tum_params)\n",
    "clf.fit(X, y)\n",
    "y_pred = clf.predict(Xtest)\n",
    "print(classification_report(ytest, y_pred,labels=class_idxs, target_names=classnames))\n",
    "metrics = confusion_matrix_to_accuraccies(confusion_matrix(ytest,y_pred))\n",
    "overall_accuracy, kappa, precision, recall, f1, cl_acc = metrics\n",
    "print(f\"overall accuracy = {overall_accuracy:.2f}, kappa = {kappa:.2f}, precision = {precision.mean():.2f},\",\n",
    "      f\"recall={recall.mean():.2f}, f1={f1.mean():.2f}\")"
   ]
  },
  {
   "cell_type": "code",
   "execution_count": 40,
   "metadata": {},
   "outputs": [
    {
     "name": "stdout",
     "output_type": "stream",
     "text": [
      "                     precision    recall  f1-score   support\n",
      "\n",
      "             fallow       0.14      0.16      0.15       356\n",
      "      fallow+flower       0.18      0.43      0.26       225\n",
      "            alfalfa       0.35      0.23      0.28       500\n",
      "          grassland       0.16      0.05      0.08       469\n",
      "      proteinplants       0.00      0.00      0.00        23\n",
      "       winter wheat       0.00      0.00      0.00       500\n",
      "               corn       0.42      0.21      0.28       500\n",
      "       summer wheat       0.00      0.00      0.00        56\n",
      "           beetroot       0.00      0.00      0.00        16\n",
      "            potatoe       0.05      0.21      0.08       121\n",
      "grassland+machining       0.11      0.05      0.07       500\n",
      "   grassland+cattle       0.13      0.43      0.20       226\n",
      "       winter spelt       0.00      0.00      0.00        52\n",
      "         winter rye       0.00      0.00      0.00       104\n",
      "      winter barley       0.20      0.05      0.08       500\n",
      "      summer barley       0.22      0.63      0.32       500\n",
      "         summer oat       0.19      0.26      0.22       248\n",
      "   winter triticale       0.15      0.13      0.14       466\n",
      "               peas       0.00      0.00      0.00        90\n",
      "              beans       0.00      0.00      0.00        12\n",
      "           rapeseed       0.51      0.41      0.46       257\n",
      "         summeroats       0.00      0.00      0.00        27\n",
      "    wintertriticale       0.00      0.00      0.00        33\n",
      "\n",
      "           accuracy                           0.19      5781\n",
      "          macro avg       0.12      0.14      0.11      5781\n",
      "       weighted avg       0.19      0.19      0.17      5781\n",
      "\n",
      "overall accuracy = 0.19, kappa = 0.14, precision = 0.12, recall=0.14, f1=0.11\n"
     ]
    },
    {
     "name": "stderr",
     "output_type": "stream",
     "text": [
      "/home/marc/miniconda3/envs/tslearn/lib/python3.7/site-packages/sklearn/metrics/classification.py:1437: UndefinedMetricWarning: Precision and F-score are ill-defined and being set to 0.0 in labels with no predicted samples.\n",
      "  'precision', 'predicted', average, warn_for)\n"
     ]
    }
   ],
   "source": [
    "X,y,ids, Xtest, ytest, idstest, classnames, class_idxs = gaf_ds\n",
    "\n",
    "clf = sklearn.svm.SVC(**svm_tum_params)\n",
    "#clf = TimeSeriesSVC(n_jobs=8,**svm_tum_params)\n",
    "clf.fit(feat_ext(X), y)\n",
    "y_pred = clf.predict(feat_ext(Xtest))\n",
    "print(classification_report(ytest, y_pred,labels=class_idxs, target_names=classnames))\n",
    "metrics = confusion_matrix_to_accuraccies(confusion_matrix(ytest,y_pred))\n",
    "overall_accuracy, kappa, precision, recall, f1, cl_acc = metrics\n",
    "print(f\"overall accuracy = {overall_accuracy:.2f}, kappa = {kappa:.2f}, precision = {precision.mean():.2f},\",\n",
    "      f\"recall={recall.mean():.2f}, f1={f1.mean():.2f}\")"
   ]
  },
  {
   "cell_type": "code",
   "execution_count": 37,
   "metadata": {},
   "outputs": [
    {
     "name": "stdout",
     "output_type": "stream",
     "text": [
      "Requirement already satisfied: tsfresh in /home/marc/miniconda3/envs/tslearn/lib/python3.7/site-packages (0.12.0)\n",
      "Requirement already satisfied: scikit-learn>=0.19.0; python_version > \"3\" in /home/marc/miniconda3/envs/tslearn/lib/python3.7/site-packages (from tsfresh) (0.21.3)\n",
      "Requirement already satisfied: distributed>=1.18.3 in /home/marc/miniconda3/envs/tslearn/lib/python3.7/site-packages (from tsfresh) (2.5.2)\n",
      "Requirement already satisfied: dask>=0.15.2 in /home/marc/miniconda3/envs/tslearn/lib/python3.7/site-packages (from tsfresh) (2.5.2)\n",
      "Requirement already satisfied: scipy>=1.2.0 in /home/marc/miniconda3/envs/tslearn/lib/python3.7/site-packages (from tsfresh) (1.3.1)\n",
      "Requirement already satisfied: requests>=2.9.1 in /home/marc/miniconda3/envs/tslearn/lib/python3.7/site-packages (from tsfresh) (2.22.0)\n",
      "Requirement already satisfied: numpy>=1.10.4 in /home/marc/miniconda3/envs/tslearn/lib/python3.7/site-packages (from tsfresh) (1.17.2)\n",
      "Requirement already satisfied: future>=0.16.0 in /home/marc/miniconda3/envs/tslearn/lib/python3.7/site-packages (from tsfresh) (0.17.1)\n",
      "Requirement already satisfied: statsmodels>=0.8.0 in /home/marc/miniconda3/envs/tslearn/lib/python3.7/site-packages (from tsfresh) (0.10.1)\n",
      "Requirement already satisfied: patsy>=0.4.1 in /home/marc/miniconda3/envs/tslearn/lib/python3.7/site-packages (from tsfresh) (0.5.1)\n",
      "Requirement already satisfied: six>=1.10.0 in /home/marc/miniconda3/envs/tslearn/lib/python3.7/site-packages (from tsfresh) (1.12.0)\n",
      "Requirement already satisfied: pandas<=0.23.4,>=0.20.3 in /home/marc/miniconda3/envs/tslearn/lib/python3.7/site-packages (from tsfresh) (0.23.4)\n",
      "Requirement already satisfied: tqdm>=4.10.0 in /home/marc/miniconda3/envs/tslearn/lib/python3.7/site-packages (from tsfresh) (4.36.1)\n",
      "Requirement already satisfied: joblib>=0.11 in /home/marc/miniconda3/envs/tslearn/lib/python3.7/site-packages (from scikit-learn>=0.19.0; python_version > \"3\"->tsfresh) (0.14.0)\n",
      "Requirement already satisfied: toolz>=0.7.4 in /home/marc/miniconda3/envs/tslearn/lib/python3.7/site-packages (from distributed>=1.18.3->tsfresh) (0.10.0)\n",
      "Requirement already satisfied: zict>=0.1.3 in /home/marc/miniconda3/envs/tslearn/lib/python3.7/site-packages (from distributed>=1.18.3->tsfresh) (1.0.0)\n",
      "Requirement already satisfied: click>=6.6 in /home/marc/miniconda3/envs/tslearn/lib/python3.7/site-packages (from distributed>=1.18.3->tsfresh) (7.0)\n",
      "Requirement already satisfied: pyyaml in /home/marc/.local/lib/python3.7/site-packages (from distributed>=1.18.3->tsfresh) (3.13)\n",
      "Requirement already satisfied: tornado>=5 in /home/marc/miniconda3/envs/tslearn/lib/python3.7/site-packages (from distributed>=1.18.3->tsfresh) (6.0.3)\n",
      "Requirement already satisfied: cloudpickle>=0.2.2 in /home/marc/miniconda3/envs/tslearn/lib/python3.7/site-packages (from distributed>=1.18.3->tsfresh) (1.2.2)\n",
      "Requirement already satisfied: msgpack in /home/marc/miniconda3/envs/tslearn/lib/python3.7/site-packages (from distributed>=1.18.3->tsfresh) (0.6.2)\n",
      "Requirement already satisfied: tblib in /home/marc/miniconda3/envs/tslearn/lib/python3.7/site-packages (from distributed>=1.18.3->tsfresh) (1.4.0)\n",
      "Requirement already satisfied: psutil>=5.0 in /home/marc/miniconda3/envs/tslearn/lib/python3.7/site-packages (from distributed>=1.18.3->tsfresh) (5.6.3)\n",
      "Requirement already satisfied: sortedcontainers!=2.0.0,!=2.0.1 in /home/marc/miniconda3/envs/tslearn/lib/python3.7/site-packages (from distributed>=1.18.3->tsfresh) (2.1.0)\n",
      "Requirement already satisfied: chardet<3.1.0,>=3.0.2 in /home/marc/miniconda3/envs/tslearn/lib/python3.7/site-packages (from requests>=2.9.1->tsfresh) (3.0.4)\n",
      "Requirement already satisfied: urllib3!=1.25.0,!=1.25.1,<1.26,>=1.21.1 in /home/marc/miniconda3/envs/tslearn/lib/python3.7/site-packages (from requests>=2.9.1->tsfresh) (1.25.6)\n",
      "Requirement already satisfied: certifi>=2017.4.17 in /home/marc/miniconda3/envs/tslearn/lib/python3.7/site-packages (from requests>=2.9.1->tsfresh) (2019.9.11)\n",
      "Requirement already satisfied: idna<2.9,>=2.5 in /home/marc/miniconda3/envs/tslearn/lib/python3.7/site-packages (from requests>=2.9.1->tsfresh) (2.8)\n",
      "Requirement already satisfied: pytz>=2011k in /home/marc/miniconda3/envs/tslearn/lib/python3.7/site-packages (from pandas<=0.23.4,>=0.20.3->tsfresh) (2019.2)\n",
      "Requirement already satisfied: python-dateutil>=2.5.0 in /home/marc/miniconda3/envs/tslearn/lib/python3.7/site-packages (from pandas<=0.23.4,>=0.20.3->tsfresh) (2.8.0)\n",
      "Requirement already satisfied: heapdict in /home/marc/miniconda3/envs/tslearn/lib/python3.7/site-packages (from zict>=0.1.3->distributed>=1.18.3->tsfresh) (1.0.1)\n"
     ]
    },
    {
     "ename": "ValueError",
     "evalue": "You have to set the column_id which contains the ids of the different time series",
     "output_type": "error",
     "traceback": [
      "\u001b[0;31m---------------------------------------------------------------------------\u001b[0m",
      "\u001b[0;31mValueError\u001b[0m                                Traceback (most recent call last)",
      "\u001b[0;32m<ipython-input-37-eea7684a3a27>\u001b[0m in \u001b[0;36m<module>\u001b[0;34m\u001b[0m\n\u001b[1;32m      1\u001b[0m \u001b[0mget_ipython\u001b[0m\u001b[0;34m(\u001b[0m\u001b[0;34m)\u001b[0m\u001b[0;34m.\u001b[0m\u001b[0msystem\u001b[0m\u001b[0;34m(\u001b[0m\u001b[0;34m'pip install tsfresh'\u001b[0m\u001b[0;34m)\u001b[0m\u001b[0;34m\u001b[0m\u001b[0;34m\u001b[0m\u001b[0m\n\u001b[1;32m      2\u001b[0m \u001b[0;32mfrom\u001b[0m \u001b[0mtsfresh\u001b[0m \u001b[0;32mimport\u001b[0m \u001b[0mextract_features\u001b[0m\u001b[0;34m\u001b[0m\u001b[0;34m\u001b[0m\u001b[0m\n\u001b[0;32m----> 3\u001b[0;31m \u001b[0mextracted_features\u001b[0m \u001b[0;34m=\u001b[0m \u001b[0mextract_features\u001b[0m\u001b[0;34m(\u001b[0m\u001b[0mX\u001b[0m\u001b[0;34m[\u001b[0m\u001b[0;36m0\u001b[0m\u001b[0;34m,\u001b[0m\u001b[0;34m:\u001b[0m\u001b[0;34m,\u001b[0m\u001b[0;36m0\u001b[0m\u001b[0;34m]\u001b[0m\u001b[0;34m)\u001b[0m\u001b[0;34m\u001b[0m\u001b[0;34m\u001b[0m\u001b[0m\n\u001b[0m",
      "\u001b[0;32m~/miniconda3/envs/tslearn/lib/python3.7/site-packages/tsfresh/feature_extraction/extraction.py\u001b[0m in \u001b[0;36mextract_features\u001b[0;34m(timeseries_container, default_fc_parameters, kind_to_fc_parameters, column_id, column_sort, column_kind, column_value, chunksize, n_jobs, show_warnings, disable_progressbar, impute_function, profile, profiling_filename, profiling_sorting, distributor)\u001b[0m\n\u001b[1;32m    152\u001b[0m             \u001b[0mcolumn_id\u001b[0m\u001b[0;34m=\u001b[0m\u001b[0mcolumn_id\u001b[0m\u001b[0;34m,\u001b[0m \u001b[0mcolumn_kind\u001b[0m\u001b[0;34m=\u001b[0m\u001b[0mcolumn_kind\u001b[0m\u001b[0;34m,\u001b[0m\u001b[0;34m\u001b[0m\u001b[0;34m\u001b[0m\u001b[0m\n\u001b[1;32m    153\u001b[0m             \u001b[0mcolumn_sort\u001b[0m\u001b[0;34m=\u001b[0m\u001b[0mcolumn_sort\u001b[0m\u001b[0;34m,\u001b[0m\u001b[0;34m\u001b[0m\u001b[0;34m\u001b[0m\u001b[0m\n\u001b[0;32m--> 154\u001b[0;31m             column_value=column_value)\n\u001b[0m\u001b[1;32m    155\u001b[0m     \u001b[0;31m# Use the standard setting if the user did not supply ones himself.\u001b[0m\u001b[0;34m\u001b[0m\u001b[0;34m\u001b[0m\u001b[0;34m\u001b[0m\u001b[0m\n\u001b[1;32m    156\u001b[0m     \u001b[0;32mif\u001b[0m \u001b[0mdefault_fc_parameters\u001b[0m \u001b[0;32mis\u001b[0m \u001b[0;32mNone\u001b[0m \u001b[0;32mand\u001b[0m \u001b[0mkind_to_fc_parameters\u001b[0m \u001b[0;32mis\u001b[0m \u001b[0;32mNone\u001b[0m\u001b[0;34m:\u001b[0m\u001b[0;34m\u001b[0m\u001b[0;34m\u001b[0m\u001b[0m\n",
      "\u001b[0;32m~/miniconda3/envs/tslearn/lib/python3.7/site-packages/tsfresh/utilities/dataframe_functions.py\u001b[0m in \u001b[0;36m_normalize_input_to_internal_representation\u001b[0;34m(timeseries_container, column_id, column_sort, column_kind, column_value)\u001b[0m\n\u001b[1;32m    287\u001b[0m     \u001b[0;31m# Check ID column\u001b[0m\u001b[0;34m\u001b[0m\u001b[0;34m\u001b[0m\u001b[0;34m\u001b[0m\u001b[0m\n\u001b[1;32m    288\u001b[0m     \u001b[0;32mif\u001b[0m \u001b[0mcolumn_id\u001b[0m \u001b[0;32mis\u001b[0m \u001b[0;32mNone\u001b[0m\u001b[0;34m:\u001b[0m\u001b[0;34m\u001b[0m\u001b[0;34m\u001b[0m\u001b[0m\n\u001b[0;32m--> 289\u001b[0;31m         \u001b[0;32mraise\u001b[0m \u001b[0mValueError\u001b[0m\u001b[0;34m(\u001b[0m\u001b[0;34m\"You have to set the column_id which contains the ids of the different time series\"\u001b[0m\u001b[0;34m)\u001b[0m\u001b[0;34m\u001b[0m\u001b[0;34m\u001b[0m\u001b[0m\n\u001b[0m\u001b[1;32m    290\u001b[0m \u001b[0;34m\u001b[0m\u001b[0m\n\u001b[1;32m    291\u001b[0m     \u001b[0;32mif\u001b[0m \u001b[0mcolumn_id\u001b[0m \u001b[0;32mnot\u001b[0m \u001b[0;32min\u001b[0m \u001b[0mtimeseries_container\u001b[0m\u001b[0;34m.\u001b[0m\u001b[0mcolumns\u001b[0m\u001b[0;34m:\u001b[0m\u001b[0;34m\u001b[0m\u001b[0;34m\u001b[0m\u001b[0m\n",
      "\u001b[0;31mValueError\u001b[0m: You have to set the column_id which contains the ids of the different time series"
     ]
    }
   ],
   "source": [
    "!pip install tsfresh\n",
    "from tsfresh import extract_features\n",
    "extracted_features = extract_features(X[0,:,0])"
   ]
  },
  {
   "cell_type": "code",
   "execution_count": 25,
   "metadata": {},
   "outputs": [],
   "source": [
    "def feat_ext(X):\n",
    "    f1 = X.mean(1)\n",
    "    f2 = X.std(1)\n",
    "    f3 = np.median(X,1)\n",
    "    return np.hstack([f1,f2,f2])"
   ]
  },
  {
   "cell_type": "markdown",
   "metadata": {},
   "source": [
    "## GAF Dataset"
   ]
  },
  {
   "cell_type": "code",
   "execution_count": 31,
   "metadata": {},
   "outputs": [
    {
     "name": "stdout",
     "output_type": "stream",
     "text": [
      "                     precision    recall  f1-score   support\n",
      "\n",
      "             fallow       0.00      0.00      0.00       356\n",
      "      fallow+flower       0.00      0.00      0.00       225\n",
      "            alfalfa       0.00      0.00      0.00       500\n",
      "          grassland       0.00      0.00      0.00       469\n",
      "      proteinplants       0.00      0.00      0.00        23\n",
      "       winter wheat       0.00      0.00      0.00       500\n",
      "               corn       0.00      0.00      0.00       500\n",
      "       summer wheat       0.00      0.00      0.00        56\n",
      "           beetroot       0.00      0.00      0.00        16\n",
      "            potatoe       0.00      0.00      0.00       121\n",
      "grassland+machining       0.00      0.00      0.00       500\n",
      "   grassland+cattle       0.00      0.00      0.00       226\n",
      "       winter spelt       0.00      0.00      0.00        52\n",
      "         winter rye       0.00      0.00      0.00       104\n",
      "      winter barley       0.00      0.00      0.00       500\n",
      "      summer barley       0.00      0.00      0.00       500\n",
      "         summer oat       0.00      0.00      0.00       248\n",
      "   winter triticale       0.00      0.00      0.00       466\n",
      "               peas       0.00      0.00      0.00        90\n",
      "              beans       0.00      0.00      0.00        12\n",
      "           rapeseed       0.04      1.00      0.09       257\n",
      "         summeroats       0.00      0.00      0.00        27\n",
      "    wintertriticale       0.00      0.00      0.00        33\n",
      "\n",
      "           accuracy                           0.04      5781\n",
      "          macro avg       0.00      0.04      0.00      5781\n",
      "       weighted avg       0.00      0.04      0.00      5781\n",
      "\n"
     ]
    },
    {
     "name": "stderr",
     "output_type": "stream",
     "text": [
      "/home/marc/miniconda3/envs/tslearn/lib/python3.7/site-packages/sklearn/metrics/classification.py:1437: UndefinedMetricWarning: Precision and F-score are ill-defined and being set to 0.0 in labels with no predicted samples.\n",
      "  'precision', 'predicted', average, warn_for)\n"
     ]
    }
   ],
   "source": [
    "X,y,ids, Xtest, ytest, idstest, classnames, class_idxs = gaf_ds\n",
    "\n",
    "clf = TimeSeriesSVC(n_jobs=8,**svm_gaf_params)\n",
    "clf.fit(X, y)\n",
    "y_pred = clf.predict(Xtest)\n",
    "print(classification_report(ytest, y_pred,labels=class_idxs, target_names=classnames))\n",
    "metrics = confusion_matrix_to_accuraccies(confusion_matrix(ytest,y_pred))\n",
    "overall_accuracy, kappa, precision, recall, f1, cl_acc = metrics\n",
    "print(f\"overall accuracy = {overall_accuracy:.2f}, kappa = {kappa:.2f}, precision = {precision.mean():.2f},\",\n",
    "      f\"recall={recall.mean():.2f}, f1={f1.mean():.2f}\")"
   ]
  },
  {
   "cell_type": "markdown",
   "metadata": {},
   "source": [
    "## Random Forest"
   ]
  },
  {
   "cell_type": "code",
   "execution_count": 4,
   "metadata": {},
   "outputs": [],
   "source": [
    "from sklearn.ensemble import RandomForestClassifier\n",
    "params = {'n_estimators': 1400, 'min_samples_split': 2, 'min_samples_leaf': 1, 'max_features': 'auto', 'max_depth': 70, 'bootstrap': False}\n"
   ]
  },
  {
   "cell_type": "code",
   "execution_count": 41,
   "metadata": {},
   "outputs": [
    {
     "name": "stdout",
     "output_type": "stream",
     "text": [
      "{'bootstrap': False, 'max_depth': 70, 'max_features': 'auto', 'min_samples_leaf': 2, 'min_samples_split': 2, 'n_estimators': 2000} score: 0.4562794154074808\n",
      "{'bootstrap': False, 'max_depth': 60, 'max_features': 'auto', 'min_samples_leaf': 1, 'min_samples_split': 3, 'n_estimators': 1000} score: 0.6899191833262441\n"
     ]
    }
   ],
   "source": [
    "!cat /data/isprs/sklearn/random_forest_tum.txt\n",
    "rf_tum_params = {'bootstrap': False, 'max_depth': 70, 'max_features': 'auto', 'min_samples_leaf': 2, 'min_samples_split': 2, 'n_estimators': 2000}\n",
    "rf_tum_params = {'bootstrap': False, 'max_depth': 50, 'max_features': 'auto', 'min_samples_leaf': 1, 'min_samples_split': 3, 'n_estimators': 2000}\n",
    "!cat /data/isprs/sklearn/random_forest_gaf.txt\n",
    "rf_gaf_params = {'bootstrap': False, 'max_depth': 60, 'max_features': 'auto', 'min_samples_leaf': 1, 'min_samples_split': 3, 'n_estimators': 1000}\n",
    "rf_gaf_params = {'bootstrap': False, 'max_depth': None, 'max_features': 'auto', 'min_samples_leaf': 1, 'min_samples_split': 2, 'n_estimators': 1200}"
   ]
  },
  {
   "cell_type": "markdown",
   "metadata": {},
   "source": [
    "## Raw Dataset"
   ]
  },
  {
   "cell_type": "code",
   "execution_count": 44,
   "metadata": {},
   "outputs": [
    {
     "name": "stdout",
     "output_type": "stream",
     "text": [
      "                     precision    recall  f1-score   support\n",
      "\n",
      "             fallow       0.26      0.16      0.20       356\n",
      "      fallow+flower       0.27      0.29      0.28       225\n",
      "            alfalfa       0.50      0.15      0.23       500\n",
      "          grassland       0.29      0.13      0.18       469\n",
      "      proteinplants       0.00      0.00      0.00        23\n",
      "       winter wheat       0.39      0.19      0.25       500\n",
      "               corn       0.70      0.71      0.71       500\n",
      "       summer wheat       0.00      0.00      0.00        56\n",
      "           beetroot       1.00      0.19      0.32        16\n",
      "            potatoe       0.09      0.24      0.13       121\n",
      "grassland+machining       0.29      0.35      0.32       500\n",
      "   grassland+cattle       0.14      0.27      0.19       226\n",
      "       winter spelt       0.00      0.00      0.00        52\n",
      "         winter rye       0.00      0.00      0.00       104\n",
      "      winter barley       0.48      0.27      0.34       500\n",
      "      summer barley       0.50      0.49      0.50       500\n",
      "         summer oat       0.19      0.48      0.27       248\n",
      "   winter triticale       0.21      0.53      0.30       466\n",
      "               peas       0.32      0.16      0.21        90\n",
      "              beans       0.00      0.00      0.00        12\n",
      "           rapeseed       0.70      0.70      0.70       257\n",
      "         summeroats       0.00      0.00      0.00        27\n",
      "    wintertriticale       0.00      0.00      0.00        33\n",
      "\n",
      "           accuracy                           0.33      5781\n",
      "          macro avg       0.28      0.23      0.22      5781\n",
      "       weighted avg       0.37      0.33      0.32      5781\n",
      "\n",
      "overall accuracy = 0.33, kappa = 0.28, precision = 0.28, recall=0.23, f1=0.22\n"
     ]
    },
    {
     "name": "stderr",
     "output_type": "stream",
     "text": [
      "/home/marc/miniconda3/envs/tslearn/lib/python3.7/site-packages/sklearn/metrics/classification.py:1437: UndefinedMetricWarning: Precision and F-score are ill-defined and being set to 0.0 in labels with no predicted samples.\n",
      "  'precision', 'predicted', average, warn_for)\n"
     ]
    }
   ],
   "source": [
    "X,y,ids, Xtest, ytest, idstest, classnames, class_idxs = tum_ds\n",
    "\n",
    "rf_tum = RandomForestClassifier(**rf_tum_params)\n",
    "rf_tum.fit(flatten(X),y)\n",
    "y_pred = rf_tum.predict(flatten(Xtest))\n",
    "print(classification_report(ytest, y_pred,labels=class_idxs, target_names=classnames))\n",
    "metrics = confusion_matrix_to_accuraccies(confusion_matrix(ytest,y_pred))\n",
    "overall_accuracy, kappa, precision, recall, f1, cl_acc = metrics\n",
    "print(f\"overall accuracy = {overall_accuracy:.2f}, kappa = {kappa:.2f}, precision = {precision.mean():.2f},\",\n",
    "      f\"recall={recall.mean():.2f}, f1={f1.mean():.2f}\")"
   ]
  },
  {
   "cell_type": "raw",
   "metadata": {},
   "source": [
    "                     precision    recall  f1-score   support\n",
    "\n",
    "             fallow       0.23      0.15      0.19       356\n",
    "      fallow+flower       0.29      0.30      0.29       225\n",
    "            alfalfa       0.50      0.14      0.22       500\n",
    "          grassland       0.31      0.13      0.19       469\n",
    "      proteinplants       0.00      0.00      0.00        23\n",
    "       winter wheat       0.38      0.18      0.24       500\n",
    "               corn       0.72      0.72      0.72       500\n",
    "       summer wheat       0.00      0.00      0.00        56\n",
    "           beetroot       1.00      0.06      0.12        16\n",
    "            potatoe       0.09      0.22      0.12       121\n",
    "grassland+machining       0.29      0.34      0.32       500\n",
    "   grassland+cattle       0.15      0.29      0.19       226\n",
    "       winter spelt       1.00      0.02      0.04        52\n",
    "         winter rye       0.33      0.01      0.02       104\n",
    "      winter barley       0.49      0.26      0.34       500\n",
    "      summer barley       0.49      0.50      0.50       500\n",
    "         summer oat       0.20      0.48      0.28       248\n",
    "   winter triticale       0.21      0.53      0.30       466\n",
    "               peas       0.29      0.16      0.20        90\n",
    "              beans       0.00      0.00      0.00        12\n",
    "           rapeseed       0.67      0.70      0.69       257\n",
    "         summeroats       0.00      0.00      0.00        27\n",
    "    wintertriticale       0.00      0.00      0.00        33\n",
    "\n",
    "           accuracy                           0.33      5781\n",
    "          macro avg       0.33      0.23      0.22      5781\n",
    "       weighted avg       0.38      0.33      0.32      5781\n",
    "\n",
    "overall accuracy = 0.33, kappa = 0.28, precision = 0.33, recall=0.23, f1=0.22"
   ]
  },
  {
   "cell_type": "markdown",
   "metadata": {},
   "source": [
    "## Preprocessed Dataset"
   ]
  },
  {
   "cell_type": "code",
   "execution_count": 45,
   "metadata": {},
   "outputs": [
    {
     "name": "stdout",
     "output_type": "stream",
     "text": [
      "                     precision    recall  f1-score   support\n",
      "\n",
      "             fallow       0.23      0.14      0.18       356\n",
      "      fallow+flower       0.28      0.29      0.28       225\n",
      "            alfalfa       0.50      0.14      0.22       500\n",
      "          grassland       0.27      0.13      0.17       469\n",
      "      proteinplants       0.00      0.00      0.00        23\n",
      "       winter wheat       0.36      0.17      0.23       500\n",
      "               corn       0.71      0.72      0.71       500\n",
      "       summer wheat       0.00      0.00      0.00        56\n",
      "           beetroot       1.00      0.19      0.32        16\n",
      "            potatoe       0.09      0.21      0.12       121\n",
      "grassland+machining       0.30      0.34      0.32       500\n",
      "   grassland+cattle       0.14      0.27      0.18       226\n",
      "       winter spelt       1.00      0.02      0.04        52\n",
      "         winter rye       0.00      0.00      0.00       104\n",
      "      winter barley       0.48      0.26      0.33       500\n",
      "      summer barley       0.49      0.49      0.49       500\n",
      "         summer oat       0.19      0.46      0.27       248\n",
      "   winter triticale       0.20      0.52      0.29       466\n",
      "               peas       0.30      0.18      0.22        90\n",
      "              beans       0.00      0.00      0.00        12\n",
      "           rapeseed       0.67      0.70      0.68       257\n",
      "         summeroats       0.00      0.00      0.00        27\n",
      "    wintertriticale       0.00      0.00      0.00        33\n",
      "\n",
      "           accuracy                           0.33      5781\n",
      "          macro avg       0.31      0.23      0.22      5781\n",
      "       weighted avg       0.37      0.33      0.32      5781\n",
      "\n",
      "overall accuracy = 0.33, kappa = 0.28, precision = 0.31, recall=0.23, f1=0.22\n"
     ]
    },
    {
     "name": "stderr",
     "output_type": "stream",
     "text": [
      "/home/marc/miniconda3/envs/tslearn/lib/python3.7/site-packages/sklearn/metrics/classification.py:1437: UndefinedMetricWarning: Precision and F-score are ill-defined and being set to 0.0 in labels with no predicted samples.\n",
      "  'precision', 'predicted', average, warn_for)\n"
     ]
    }
   ],
   "source": [
    "X,y,ids, Xtest, ytest, idstest, classnames, class_idxs = gaf_ds\n",
    "\n",
    "rf_tum = RandomForestClassifier(**rf_gaf_params)\n",
    "rf_tum.fit(flatten(X),y)\n",
    "y_pred = rf_tum.predict(flatten(Xtest))\n",
    "print(classification_report(ytest, y_pred,labels=class_idxs, target_names=classnames))\n",
    "metrics = confusion_matrix_to_accuraccies(confusion_matrix(ytest,y_pred))\n",
    "overall_accuracy, kappa, precision, recall, f1, cl_acc = metrics\n",
    "print(f\"overall accuracy = {overall_accuracy:.2f}, kappa = {kappa:.2f}, precision = {precision.mean():.2f},\",\n",
    "      f\"recall={recall.mean():.2f}, f1={f1.mean():.2f}\")"
   ]
  },
  {
   "cell_type": "raw",
   "metadata": {},
   "source": [
    "     precision    recall  f1-score   support\n",
    "\n",
    "             fallow       0.31      0.35      0.33       136\n",
    "      fallow+flower       0.69      0.75      0.72       159\n",
    "            alfalfa       0.63      0.41      0.49       500\n",
    "          grassland       0.33      0.31      0.32       314\n",
    "      proteinplants       0.00      0.00      0.00        21\n",
    "       winter wheat       0.63      0.52      0.57       500\n",
    "               corn       0.99      0.98      0.98       500\n",
    "       summer wheat       1.00      0.12      0.22        33\n",
    "           beetroot       1.00      0.30      0.46        10\n",
    "            potatoe       0.20      0.40      0.27         5\n",
    "grassland+machining       0.53      0.42      0.47       500\n",
    "   grassland+cattle       0.24      0.66      0.35       153\n",
    "       winter spelt       0.60      0.15      0.24        41\n",
    "         winter rye       0.58      0.11      0.19        97\n",
    "      winter barley       0.82      0.71      0.76       500\n",
    "      summer barley       0.75      0.86      0.80       500\n",
    "         summer oat       0.52      0.79      0.63       196\n",
    "   winter triticale       0.45      0.63      0.53       412\n",
    "               peas       0.64      0.72      0.68        76\n",
    "              beans       1.00      0.50      0.67        10\n",
    "           rapeseed       0.91      0.92      0.92       248\n",
    "         summeroats       0.00      0.00      0.00        24\n",
    "    wintertriticale       0.53      0.32      0.40        28\n",
    "\n",
    "           accuracy                           0.61      4963\n",
    "          macro avg       0.58      0.48      0.48      4963\n",
    "       weighted avg       0.64      0.61      0.61      4963\n",
    "\n",
    "overall accuracy = 0.61, kappa = 0.58, precision = 0.58, recall=0.48, f1=0.48"
   ]
  },
  {
   "cell_type": "markdown",
   "metadata": {},
   "source": [
    "## previous runs with other hyperparameter..."
   ]
  },
  {
   "cell_type": "raw",
   "metadata": {},
   "source": [
    "random forest raw data. random split\n",
    "                   precision    recall  f1-score   support\n",
    "\n",
    "grassland+machining       0.47      0.41      0.44       500\n",
    "               corn       0.88      0.78      0.83       500\n",
    "       winter wheat       0.59      0.37      0.45       500\n",
    "      winter barley       0.66      0.41      0.51       500\n",
    "      summer barley       0.69      0.75      0.72       500\n",
    "            alfalfa       0.52      0.30      0.38       500\n",
    "   winter triticale       0.29      0.53      0.37       402\n",
    "           rapeseed       0.85      0.80      0.83       335\n",
    "          grassland       0.24      0.33      0.28       328\n",
    "         summer oat       0.30      0.58      0.40       217\n",
    "\n",
    "           accuracy                           0.52      4282\n",
    "          macro avg       0.55      0.53      0.52      4282\n",
    "       weighted avg       0.57      0.52      0.53      4282\n",
    "\n",
    "random forest preprocessed data. random split\n",
    "                     precision    recall  f1-score   support\n",
    "\n",
    "grassland+machining       0.68      0.51      0.58       500\n",
    "               corn       0.97      0.97      0.97       500\n",
    "       winter wheat       0.80      0.58      0.67       500\n",
    "      winter barley       0.88      0.71      0.79       500\n",
    "      summer barley       0.81      0.90      0.85       500\n",
    "            alfalfa       0.68      0.61      0.64       500\n",
    "   winter triticale       0.55      0.77      0.64       402\n",
    "           rapeseed       0.95      0.97      0.96       335\n",
    "          grassland       0.32      0.47      0.38       328\n",
    "         summer oat       0.67      0.80      0.73       217\n",
    "\n",
    "           accuracy                           0.72      4282\n",
    "          macro avg       0.73      0.73      0.72      4282\n",
    "       weighted avg       0.75      0.72      0.73      4282\n",
    "       \n",
    "\n",
    "uniform class distribution (500 instances per class) and 10 largest classes\n",
    "\n",
    "Random Forest preprocessed data\n",
    "      precision    recall  f1-score   support\n",
    "\n",
    "                     precision    recall  f1-score   support\n",
    "\n",
    "grassland+machining       0.66      0.64      0.65       500\n",
    "               corn       0.98      0.98      0.98       500\n",
    "       winter wheat       0.72      0.51      0.60       500\n",
    "      winter barley       0.82      0.69      0.75       500\n",
    "      summer barley       0.77      0.88      0.82       500\n",
    "            alfalfa       0.70      0.47      0.56       500\n",
    "   winter triticale       0.50      0.66      0.57       412\n",
    "          grassland       0.33      0.48      0.40       314\n",
    "           rapeseed       0.93      0.92      0.93       248\n",
    "         summer oat       0.60      0.78      0.68       196\n",
    "\n",
    "           accuracy                           0.69      4170\n",
    "          macro avg       0.70      0.70      0.69      4170\n",
    "       weighted avg       0.72      0.69      0.70      4170\n",
    "       \n",
    "random forest raw data\n",
    "       \n",
    "                     precision    recall  f1-score   support\n",
    "\n",
    "grassland+machining       0.41      0.51      0.45       500\n",
    "               corn       0.69      0.87      0.77       500\n",
    "       winter wheat       0.44      0.18      0.26       500\n",
    "      winter barley       0.57      0.26      0.36       500\n",
    "            alfalfa       0.47      0.16      0.24       500\n",
    "      summer barley       0.52      0.66      0.58       500\n",
    "          grassland       0.29      0.16      0.21       469\n",
    "             fallow       0.28      0.29      0.29       356\n",
    "   winter triticale       0.23      0.57      0.32       466\n",
    "           rapeseed       0.73      0.72      0.73       257\n",
    "\n",
    "           accuracy                           0.43      4548\n",
    "          macro avg       0.46      0.44      0.42      4548\n",
    "       weighted avg       0.46      0.43      0.41      4548"
   ]
  },
  {
   "cell_type": "code",
   "execution_count": 35,
   "metadata": {},
   "outputs": [
    {
     "name": "stdout",
     "output_type": "stream",
     "text": [
      "              precision    recall  f1-score   support\n",
      "\n",
      "           0       1.00      1.00      1.00       356\n",
      "           1       1.00      1.00      1.00       371\n",
      "           2       1.00      1.00      1.00      2215\n",
      "           3       1.00      1.00      1.00       779\n",
      "           4       1.00      1.00      1.00        32\n",
      "           5       1.00      1.00      1.00      3002\n",
      "           6       1.00      1.00      1.00      6217\n",
      "           7       1.00      1.00      1.00        49\n",
      "           8       1.00      1.00      1.00        36\n",
      "           9       1.00      1.00      1.00        53\n",
      "          10       1.00      1.00      1.00     17202\n",
      "          11       1.00      1.00      1.00       494\n",
      "          12       1.00      1.00      1.00       177\n",
      "          13       1.00      1.00      1.00       146\n",
      "          14       1.00      1.00      1.00      2762\n",
      "          15       1.00      1.00      1.00      2219\n",
      "          16       1.00      1.00      1.00       512\n",
      "          17       1.00      1.00      1.00       894\n",
      "          18       1.00      1.00      1.00       134\n",
      "          19       1.00      1.00      1.00        66\n",
      "          20       1.00      1.00      1.00       757\n",
      "          21       1.00      1.00      1.00        32\n",
      "          22       1.00      1.00      1.00       107\n",
      "\n",
      "    accuracy                           1.00     38612\n",
      "   macro avg       1.00      1.00      1.00     38612\n",
      "weighted avg       1.00      1.00      1.00     38612\n",
      "\n"
     ]
    }
   ],
   "source": [
    "print(classification_report(ytest, y_pred))"
   ]
  },
  {
   "cell_type": "code",
   "execution_count": 40,
   "metadata": {},
   "outputs": [
    {
     "data": {
      "text/plain": [
       "(5000, 70, 18)"
      ]
     },
     "execution_count": 40,
     "metadata": {},
     "output_type": "execute_result"
    }
   ],
   "source": [
    "add_spectral_indices(X).shape"
   ]
  },
  {
   "cell_type": "code",
   "execution_count": 23,
   "metadata": {},
   "outputs": [
    {
     "data": {
      "text/plain": [
       "array([ 6, 10, 10, ..., 14,  2,  3])"
      ]
     },
     "execution_count": 23,
     "metadata": {},
     "output_type": "execute_result"
    }
   ],
   "source": [
    "y_pred"
   ]
  },
  {
   "cell_type": "code",
   "execution_count": 24,
   "metadata": {},
   "outputs": [
    {
     "data": {
      "text/plain": [
       "array([ 6, 10, 10, ..., 14,  2,  3])"
      ]
     },
     "execution_count": 24,
     "metadata": {},
     "output_type": "execute_result"
    }
   ],
   "source": [
    "ytest"
   ]
  },
  {
   "cell_type": "code",
   "execution_count": 27,
   "metadata": {},
   "outputs": [
    {
     "data": {
      "text/plain": [
       "array([ 6, 10])"
      ]
     },
     "execution_count": 27,
     "metadata": {},
     "output_type": "execute_result"
    }
   ],
   "source": [
    "rf.predict(flatten(Xtest[0:2]))"
   ]
  },
  {
   "cell_type": "code",
   "execution_count": 28,
   "metadata": {},
   "outputs": [
    {
     "data": {
      "text/plain": [
       "array([ 6, 10])"
      ]
     },
     "execution_count": 28,
     "metadata": {},
     "output_type": "execute_result"
    }
   ],
   "source": [
    "ytest[0:2]"
   ]
  },
  {
   "cell_type": "code",
   "execution_count": 31,
   "metadata": {},
   "outputs": [
    {
     "data": {
      "text/plain": [
       "[<matplotlib.lines.Line2D at 0x7fad39530210>,\n",
       " <matplotlib.lines.Line2D at 0x7fad39530510>,\n",
       " <matplotlib.lines.Line2D at 0x7fadd4de2890>,\n",
       " <matplotlib.lines.Line2D at 0x7fad56195c90>,\n",
       " <matplotlib.lines.Line2D at 0x7faccad84ed0>,\n",
       " <matplotlib.lines.Line2D at 0x7faccad84d10>,\n",
       " <matplotlib.lines.Line2D at 0x7facd009d990>,\n",
       " <matplotlib.lines.Line2D at 0x7facd009d450>,\n",
       " <matplotlib.lines.Line2D at 0x7faccad84f10>,\n",
       " <matplotlib.lines.Line2D at 0x7faccad84cd0>,\n",
       " <matplotlib.lines.Line2D at 0x7faccb05e650>,\n",
       " <matplotlib.lines.Line2D at 0x7facd009dd10>,\n",
       " <matplotlib.lines.Line2D at 0x7facd009ded0>,\n",
       " <matplotlib.lines.Line2D at 0x7facd009d8d0>,\n",
       " <matplotlib.lines.Line2D at 0x7facd009d0d0>]"
      ]
     },
     "execution_count": 31,
     "metadata": {},
     "output_type": "execute_result"
    },
    {
     "data": {
      "image/png": "[encoded data removed]",
      "text/plain": [
       "<Figure size 432x288 with 1 Axes>"
      ]
     },
     "metadata": {
      "needs_background": "light"
     },
     "output_type": "display_data"
    }
   ],
   "source": [
    "import matplotlib.pyplot as plt\n",
    "plt.plot(Xtest[0])"
   ]
  },
  {
   "cell_type": "code",
   "execution_count": 33,
   "metadata": {},
   "outputs": [
    {
     "data": {
      "text/plain": [
       "[<matplotlib.lines.Line2D at 0x7fad34459d90>,\n",
       " <matplotlib.lines.Line2D at 0x7fad34459f90>,\n",
       " <matplotlib.lines.Line2D at 0x7fad3445f190>,\n",
       " <matplotlib.lines.Line2D at 0x7fad3445f350>,\n",
       " <matplotlib.lines.Line2D at 0x7fad3445f510>,\n",
       " <matplotlib.lines.Line2D at 0x7fad3445f6d0>,\n",
       " <matplotlib.lines.Line2D at 0x7fad3445f910>,\n",
       " <matplotlib.lines.Line2D at 0x7fad3445fad0>,\n",
       " <matplotlib.lines.Line2D at 0x7fad3445fc90>,\n",
       " <matplotlib.lines.Line2D at 0x7fad3445f710>,\n",
       " <matplotlib.lines.Line2D at 0x7fad3443fb10>,\n",
       " <matplotlib.lines.Line2D at 0x7fad34462150>,\n",
       " <matplotlib.lines.Line2D at 0x7fad34462310>,\n",
       " <matplotlib.lines.Line2D at 0x7fad344624d0>,\n",
       " <matplotlib.lines.Line2D at 0x7fad34462690>]"
      ]
     },
     "execution_count": 33,
     "metadata": {},
     "output_type": "execute_result"
    },
    {
     "data": {
      "image/png": "[encoded data removed]",
      "text/plain": [
       "<Figure size 432x288 with 1 Axes>"
      ]
     },
     "metadata": {
      "needs_background": "light"
     },
     "output_type": "display_data"
    }
   ],
   "source": [
    "plt.plot(Xtest[1])"
   ]
  },
  {
   "cell_type": "code",
   "execution_count": null,
   "metadata": {},
   "outputs": [],
   "source": []
  }
 ],
 "metadata": {
  "kernelspec": {
   "display_name": "Python 3",
   "language": "python",
   "name": "python3"
  },
  "language_info": {
   "codemirror_mode": {
    "name": "ipython",
    "version": 3
   },
   "file_extension": ".py",
   "mimetype": "text/x-python",
   "name": "python",
   "nbconvert_exporter": "python",
   "pygments_lexer": "ipython3",
   "version": "3.7.4"
  }
 },
 "nbformat": 4,
 "nbformat_minor": 2
}

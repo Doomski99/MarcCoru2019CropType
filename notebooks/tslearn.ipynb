{
 "cells": [
  {
   "cell_type": "code",
   "execution_count": 1,
   "metadata": {},
   "outputs": [],
   "source": [
    "import sys\n",
    "sys.path.append(\"../src\")\n",
    "sys.path.append(\"../src/models\")\n",
    "import sklearn\n",
    "import tslearn\n",
    "import argparse\n",
    "from train import prepare_dataset\n",
    "from experiments import experiments\n",
    "import tqdm\n",
    "import numpy as np\n",
    "from tslearn.svm import TimeSeriesSVC\n",
    "from sklearn.model_selection import cross_val_score\n",
    "from sklearn.model_selection import cross_validate\n",
    "from sklearn.metrics import classification_report\n",
    "from utils.classmetric import confusion_matrix_to_accuraccies\n",
    "from sklearn.metrics import confusion_matrix\n",
    "\n",
    "from tslearn.utils import to_time_series_dataset\n",
    "from time import time\n",
    "from sklearn.model_selection import RandomizedSearchCV\n",
    "import scipy\n",
    "from sklearn.ensemble import RandomForestClassifier\n",
    "\n",
    "from utils.data2numpy import get_data\n",
    "\n",
    "def flatten(x):\n",
    "    return x.reshape(x.shape[0], -1)"
   ]
  },
  {
   "cell_type": "code",
   "execution_count": 11,
   "metadata": {
    "scrolled": true
   },
   "outputs": [
    {
     "name": "stdout",
     "output_type": "stream",
     "text": [
      "Initializing BavarianCropsDataset test partition in holl\n",
      "read 23 classes\n",
      "precached dataset files found at /data/BavarianCrops/npy/classmapping.isprs.csv/blocks/holl/test\n",
      "loaded 9792 samples\n",
      "Dataset /data/BavarianCrops. region holl. partition test. X:9792x(144, 13), y:(9792,) with 23 classes\n",
      "Initializing BavarianCropsDataset test partition in nowa\n",
      "read 23 classes\n",
      "precached dataset files found at /data/BavarianCrops/npy/classmapping.isprs.csv/blocks/nowa/test\n",
      "loaded 3572 samples\n",
      "Dataset /data/BavarianCrops. region nowa. partition test. X:3572x(287, 13), y:(3572,) with 23 classes\n",
      "Initializing BavarianCropsDataset test partition in krum\n",
      "read 23 classes\n",
      "precached dataset files found at /data/BavarianCrops/npy/classmapping.isprs.csv/blocks/krum/test\n",
      "loaded 4306 samples\n",
      "Dataset /data/BavarianCrops. region krum. partition test. X:4306x(143, 13), y:(4306,) with 23 classes\n",
      "Initializing BavarianCropsDataset trainvalid partition in holl\n",
      "read 23 classes\n",
      "precached dataset files found at /data/BavarianCrops/npy/classmapping.isprs.csv/blocks/holl/trainvalid\n",
      "loaded 25308 samples\n",
      "Dataset /data/BavarianCrops. region holl. partition trainvalid. X:25308x(71, 13), y:(25308,) with 23 classes\n",
      "Initializing BavarianCropsDataset trainvalid partition in nowa\n",
      "read 23 classes\n",
      "precached dataset files found at /data/BavarianCrops/npy/classmapping.isprs.csv/blocks/nowa/trainvalid\n",
      "loaded 8488 samples\n",
      "Dataset /data/BavarianCrops. region nowa. partition trainvalid. X:8488x(289, 13), y:(8488,) with 23 classes\n",
      "Initializing BavarianCropsDataset trainvalid partition in krum\n",
      "read 23 classes\n",
      "precached dataset files found at /data/BavarianCrops/npy/classmapping.isprs.csv/blocks/krum/trainvalid\n"
     ]
    },
    {
     "name": "stderr",
     "output_type": "stream",
     "text": [
      "7it [00:00, 68.89it/s]"
     ]
    },
    {
     "name": "stdout",
     "output_type": "stream",
     "text": [
      "loaded 25368 samples\n",
      "Dataset /data/BavarianCrops. region krum. partition trainvalid. X:25368x(71, 13), y:(25368,) with 23 classes\n",
      "setting random seed to 0\n"
     ]
    },
    {
     "name": "stderr",
     "output_type": "stream",
     "text": [
      "232it [00:03, 67.64it/s]\n",
      "70it [00:00, 71.27it/s]\n"
     ]
    },
    {
     "name": "stdout",
     "output_type": "stream",
     "text": [
      "saving npy arrays to /data/GAFdataset/npy/holl\n",
      "features='optical': selecting 10 optical features from all 18 features\n",
      "gaf classes [6, 17, 21, 22, 23, 34, 45, 60, 102, 105] not in classmapping /data/BavarianCrops/classmapping.isprs.csv. ignoring 91 examples (1.26% of dataset)\n",
      "Dataset /data/GAFdataset/test_train_holl.h5. region holl. partition test. X:(7117, 23, 10), y:(7117,) with 23 classes\n",
      "saving npy arrays to /data/GAFdataset/npy/nowa\n"
     ]
    },
    {
     "name": "stderr",
     "output_type": "stream",
     "text": [
      "../src/datasets/GAFDataset.py:117: RuntimeWarning: divide by zero encountered in true_divide\n",
      "  self.classweights = 1 / self.hist\n"
     ]
    },
    {
     "name": "stdout",
     "output_type": "stream",
     "text": [
      "features='optical': selecting 10 optical features from all 18 features\n",
      "Dataset /data/GAFdataset/test_train_nowa.h5. region nowa. partition test. X:(2660, 23, 10), y:(2660,) with 23 classes\n",
      "saving npy arrays to /data/GAFdataset/npy/krum\n",
      "features='optical': selecting 10 optical features from all 18 features\n",
      "gaf classes [5, 6, 22, 34, 42, 47, 50, 60, 83, 91] not in classmapping /data/BavarianCrops/classmapping.isprs.csv. ignoring 66 examples (1.75% of dataset)\n",
      "Dataset /data/GAFdataset/test_train_krum.h5. region krum. partition test. X:(3707, 23, 10), y:(3707,) with 23 classes\n",
      "saving npy arrays to /data/GAFdataset/npy/holl\n",
      "features='optical': selecting 10 optical features from all 18 features\n",
      "gaf classes [6, 17, 21, 22, 23, 34, 45, 60, 102, 105] not in classmapping /data/BavarianCrops/classmapping.isprs.csv. ignoring 256 examples (1.64% of dataset)\n",
      "Dataset /data/GAFdataset/test_train_holl.h5. region holl. partition train. X:(15396, 23, 10), y:(15396,) with 23 classes\n",
      "saving npy arrays to /data/GAFdataset/npy/nowa\n",
      "features='optical': selecting 10 optical features from all 18 features\n",
      "Dataset /data/GAFdataset/test_train_nowa.h5. region nowa. partition train. X:(5786, 23, 10), y:(5786,) with 23 classes\n",
      "saving npy arrays to /data/GAFdataset/npy/krum\n"
     ]
    },
    {
     "name": "stderr",
     "output_type": "stream",
     "text": [
      "\r",
      "0it [00:00, ?it/s]"
     ]
    },
    {
     "name": "stdout",
     "output_type": "stream",
     "text": [
      "features='optical': selecting 10 optical features from all 18 features\n",
      "gaf classes [5, 6, 22, 34, 42, 47, 50, 60, 83, 91] not in classmapping /data/BavarianCrops/classmapping.isprs.csv. ignoring 176 examples (1.00% of dataset)\n",
      "Dataset /data/GAFdataset/test_train_krum.h5. region krum. partition train. X:(17430, 23, 10), y:(17430,) with 23 classes\n",
      "setting random seed to 0\n"
     ]
    },
    {
     "name": "stderr",
     "output_type": "stream",
     "text": [
      "151it [00:17,  8.82it/s]\n",
      "53it [00:05,  8.87it/s]\n"
     ]
    },
    {
     "name": "stdout",
     "output_type": "stream",
     "text": [
      "Initializing BavarianCropsDataset test partition in holl\n",
      "read 12 classes\n",
      "precached dataset files found at /data/BavarianCrops/npy/classmapping.isprs2.csv/blocks/holl/test\n",
      "loaded 9583 samples\n",
      "Dataset /data/BavarianCrops. region holl. partition test. X:9583x(144, 13), y:(9583,) with 12 classes\n",
      "Initializing BavarianCropsDataset test partition in nowa\n",
      "read 12 classes\n",
      "precached dataset files found at /data/BavarianCrops/npy/classmapping.isprs2.csv/blocks/nowa/test\n",
      "loaded 3547 samples\n",
      "Dataset /data/BavarianCrops. region nowa. partition test. X:3547x(287, 13), y:(3547,) with 12 classes\n",
      "Initializing BavarianCropsDataset test partition in krum\n",
      "read 12 classes\n",
      "precached dataset files found at /data/BavarianCrops/npy/classmapping.isprs2.csv/blocks/krum/test\n",
      "loaded 4278 samples\n",
      "Dataset /data/BavarianCrops. region krum. partition test. X:4278x(143, 13), y:(4278,) with 12 classes\n",
      "Initializing BavarianCropsDataset trainvalid partition in holl\n",
      "read 12 classes\n",
      "precached dataset files found at /data/BavarianCrops/npy/classmapping.isprs2.csv/blocks/holl/trainvalid\n",
      "loaded 24767 samples\n",
      "Dataset /data/BavarianCrops. region holl. partition trainvalid. X:24767x(71, 13), y:(24767,) with 12 classes\n",
      "Initializing BavarianCropsDataset trainvalid partition in nowa\n",
      "read 12 classes\n",
      "precached dataset files found at /data/BavarianCrops/npy/classmapping.isprs2.csv/blocks/nowa/trainvalid\n",
      "loaded 8425 samples\n",
      "Dataset /data/BavarianCrops. region nowa. partition trainvalid. X:8425x(289, 13), y:(8425,) with 12 classes\n",
      "Initializing BavarianCropsDataset trainvalid partition in krum\n",
      "read 12 classes\n",
      "precached dataset files found at /data/BavarianCrops/npy/classmapping.isprs2.csv/blocks/krum/trainvalid\n"
     ]
    },
    {
     "name": "stderr",
     "output_type": "stream",
     "text": [
      "8it [00:00, 71.25it/s]"
     ]
    },
    {
     "name": "stdout",
     "output_type": "stream",
     "text": [
      "loaded 25083 samples\n",
      "Dataset /data/BavarianCrops. region krum. partition trainvalid. X:25083x(71, 13), y:(25083,) with 12 classes\n",
      "setting random seed to 0\n"
     ]
    },
    {
     "name": "stderr",
     "output_type": "stream",
     "text": [
      "228it [00:03, 72.86it/s]\n",
      "68it [00:01, 63.61it/s]\n"
     ]
    },
    {
     "name": "stdout",
     "output_type": "stream",
     "text": [
      "saving npy arrays to /data/GAFdataset/npy/holl\n",
      "features='optical': selecting 10 optical features from all 18 features\n",
      "gaf classes [6, 7, 13, 15, 17, 21, 22, 23, 34, 36, 37, 45, 60, 102, 105] not in classmapping /data/BavarianCrops/classmapping.isprs2.csv. ignoring 190 examples (2.64% of dataset)\n",
      "Dataset /data/GAFdataset/test_train_holl.h5. region holl. partition test. X:(7018, 23, 10), y:(7018,) with 12 classes\n",
      "saving npy arrays to /data/GAFdataset/npy/nowa\n",
      "features='optical': selecting 10 optical features from all 18 features\n",
      "gaf classes [13] not in classmapping /data/BavarianCrops/classmapping.isprs2.csv. ignoring 1 examples (0.04% of dataset)\n",
      "Dataset /data/GAFdataset/test_train_nowa.h5. region nowa. partition test. X:(2659, 23, 10), y:(2659,) with 12 classes\n",
      "saving npy arrays to /data/GAFdataset/npy/krum\n",
      "features='optical': selecting 10 optical features from all 18 features\n",
      "gaf classes [5, 6, 7, 13, 15, 22, 34, 36, 37, 42, 47, 50, 60, 83, 91] not in classmapping /data/BavarianCrops/classmapping.isprs2.csv. ignoring 88 examples (2.33% of dataset)\n",
      "Dataset /data/GAFdataset/test_train_krum.h5. region krum. partition test. X:(3685, 23, 10), y:(3685,) with 12 classes\n",
      "saving npy arrays to /data/GAFdataset/npy/holl\n",
      "features='optical': selecting 10 optical features from all 18 features\n",
      "gaf classes [6, 7, 13, 15, 17, 21, 22, 23, 34, 36, 37, 45, 60, 102, 105] not in classmapping /data/BavarianCrops/classmapping.isprs2.csv. ignoring 410 examples (2.62% of dataset)\n",
      "Dataset /data/GAFdataset/test_train_holl.h5. region holl. partition train. X:(15242, 23, 10), y:(15242,) with 12 classes\n",
      "saving npy arrays to /data/GAFdataset/npy/nowa\n",
      "features='optical': selecting 10 optical features from all 18 features\n",
      "gaf classes [13] not in classmapping /data/BavarianCrops/classmapping.isprs2.csv. ignoring 4 examples (0.07% of dataset)\n",
      "Dataset /data/GAFdataset/test_train_nowa.h5. region nowa. partition train. X:(5782, 23, 10), y:(5782,) with 12 classes\n",
      "saving npy arrays to /data/GAFdataset/npy/krum\n"
     ]
    },
    {
     "name": "stderr",
     "output_type": "stream",
     "text": [
      "\r",
      "0it [00:00, ?it/s]"
     ]
    },
    {
     "name": "stdout",
     "output_type": "stream",
     "text": [
      "features='optical': selecting 10 optical features from all 18 features\n",
      "gaf classes [5, 6, 7, 13, 15, 22, 34, 36, 37, 42, 47, 50, 60, 83, 91] not in classmapping /data/BavarianCrops/classmapping.isprs2.csv. ignoring 339 examples (1.93% of dataset)\n",
      "Dataset /data/GAFdataset/test_train_krum.h5. region krum. partition train. X:(17267, 23, 10), y:(17267,) with 12 classes\n",
      "setting random seed to 0\n"
     ]
    },
    {
     "name": "stderr",
     "output_type": "stream",
     "text": [
      "150it [00:17,  8.76it/s]\n",
      "53it [00:05,  8.92it/s]\n"
     ]
    }
   ],
   "source": [
    "N_per_class = 500\n",
    "\n",
    "tum_ds = get_data(\"isprs_rf_tum_23classes\", N_per_class=N_per_class, N_largest=None, do_add_spectral_indices=True)\n",
    "gaf_ds = get_data(\"isprs_rf_gaf_23classes\", N_per_class=N_per_class, N_largest=None, do_add_spectral_indices=True)\n",
    "tum12_ds = get_data(\"isprs_rf_tum_12classes\", N_per_class=N_per_class, N_largest=None, do_add_spectral_indices=True)\n",
    "gaf12_ds = get_data(\"isprs_rf_gaf_12classes\", N_per_class=N_per_class, N_largest=None, do_add_spectral_indices=True)\n"
   ]
  },
  {
   "cell_type": "markdown",
   "metadata": {},
   "source": [
    "# Support Vector Machine"
   ]
  },
  {
   "cell_type": "markdown",
   "metadata": {},
   "source": [
    "## TUM dataset"
   ]
  },
  {
   "cell_type": "code",
   "execution_count": null,
   "metadata": {
    "scrolled": true
   },
   "outputs": [],
   "source": [
    "!cat /data/isprs/sklearn/svm_tum.txt\n",
    "#svm_tum_params = {'C': 34.94762791972138, 'gamma': 0.09632187442535493, 'kernel': 'rbf'}\n",
    "#svm_tum_params ={'C': 219.5746177088989, 'gamma': 0.030512293944411368, 'kernel': 'rbf'}\n",
    "svm_tum_params ={'C': 219.5746177088989, 'gamma': 0.030512293944411368, 'kernel': 'rbf'}\n",
    "!cat /data/isprs/sklearn/svm_gaf.txt\n",
    "svm_gaf_params = {'C': 83.60975452306279, 'gamma': 0.03084148398718425, 'kernel': 'rbf'}"
   ]
  },
  {
   "cell_type": "code",
   "execution_count": null,
   "metadata": {},
   "outputs": [],
   "source": [
    "X,y,ids, Xtest, ytest, idstest, classnames, class_idxs = tum_ds\n",
    "\n",
    "clf = TimeSeriesSVC(n_jobs=8,**svm_tum_params)\n",
    "clf.fit(X, y)\n",
    "y_pred = clf.predict(Xtest)\n",
    "print(classification_report(ytest, y_pred,labels=class_idxs, target_names=classnames))\n",
    "metrics = confusion_matrix_to_accuraccies(confusion_matrix(ytest,y_pred))\n",
    "overall_accuracy, kappa, precision, recall, f1, cl_acc = metrics\n",
    "print(f\"overall accuracy = {overall_accuracy:.2f}, kappa = {kappa:.2f}, precision = {precision.mean():.2f},\",\n",
    "      f\"recall={recall.mean():.2f}, f1={f1.mean():.2f}\")"
   ]
  },
  {
   "cell_type": "code",
   "execution_count": null,
   "metadata": {},
   "outputs": [],
   "source": [
    "X,y,ids, Xtest, ytest, idstest, classnames, class_idxs = gaf_ds\n",
    "\n",
    "clf = sklearn.svm.SVC(**svm_tum_params)\n",
    "#clf = TimeSeriesSVC(n_jobs=8,**svm_tum_params)\n",
    "clf.fit(feat_ext(X), y)\n",
    "y_pred = clf.predict(feat_ext(Xtest))\n",
    "print(classification_report(ytest, y_pred,labels=class_idxs, target_names=classnames))\n",
    "metrics = confusion_matrix_to_accuraccies(confusion_matrix(ytest,y_pred))\n",
    "overall_accuracy, kappa, precision, recall, f1, cl_acc = metrics\n",
    "print(f\"overall accuracy = {overall_accuracy:.2f}, kappa = {kappa:.2f}, precision = {precision.mean():.2f},\",\n",
    "      f\"recall={recall.mean():.2f}, f1={f1.mean():.2f}\")"
   ]
  },
  {
   "cell_type": "code",
   "execution_count": null,
   "metadata": {},
   "outputs": [],
   "source": [
    "!pip install tsfresh\n",
    "from tsfresh import extract_features\n",
    "extracted_features = extract_features(X[0,:,0])"
   ]
  },
  {
   "cell_type": "code",
   "execution_count": null,
   "metadata": {},
   "outputs": [],
   "source": [
    "def feat_ext(X):\n",
    "    f1 = X.mean(1)\n",
    "    f2 = X.std(1)\n",
    "    f3 = np.median(X,1)\n",
    "    return np.hstack([f1,f2,f2])"
   ]
  },
  {
   "cell_type": "markdown",
   "metadata": {},
   "source": [
    "## GAF Dataset"
   ]
  },
  {
   "cell_type": "code",
   "execution_count": null,
   "metadata": {},
   "outputs": [],
   "source": [
    "X,y,ids, Xtest, ytest, idstest, classnames, class_idxs = gaf_ds\n",
    "\n",
    "clf = TimeSeriesSVC(n_jobs=8,**svm_gaf_params)\n",
    "clf.fit(X, y)\n",
    "y_pred = clf.predict(Xtest)\n",
    "print(classification_report(ytest, y_pred,labels=class_idxs, target_names=classnames))\n",
    "metrics = confusion_matrix_to_accuraccies(confusion_matrix(ytest,y_pred))\n",
    "overall_accuracy, kappa, precision, recall, f1, cl_acc = metrics\n",
    "print(f\"overall accuracy = {overall_accuracy:.2f}, kappa = {kappa:.2f}, precision = {precision.mean():.2f},\",\n",
    "      f\"recall={recall.mean():.2f}, f1={f1.mean():.2f}\")"
   ]
  },
  {
   "cell_type": "markdown",
   "metadata": {},
   "source": [
    "## Random Forest"
   ]
  },
  {
   "cell_type": "code",
   "execution_count": null,
   "metadata": {},
   "outputs": [],
   "source": [
    "from sklearn.ensemble import RandomForestClassifier\n",
    "params = {'n_estimators': 1400, 'min_samples_split': 2, 'min_samples_leaf': 1, 'max_features': 'auto', 'max_depth': 70, 'bootstrap': False}\n"
   ]
  },
  {
   "cell_type": "code",
   "execution_count": 4,
   "metadata": {},
   "outputs": [
    {
     "name": "stdout",
     "output_type": "stream",
     "text": [
      "{'bootstrap': False, 'max_depth': 70, 'max_features': 'auto', 'min_samples_leaf': 2, 'min_samples_split': 2, 'n_estimators': 2000} score: 0.4562794154074808\n",
      "{'bootstrap': False, 'max_depth': 60, 'max_features': 'auto', 'min_samples_leaf': 1, 'min_samples_split': 3, 'n_estimators': 1000} score: 0.6899191833262441\n"
     ]
    }
   ],
   "source": [
    "!cat /data/isprs/sklearn/random_forest_tum.txt\n",
    "rf_tum_params = {'bootstrap': False, 'max_depth': 70, 'max_features': 'auto', 'min_samples_leaf': 2, 'min_samples_split': 2, 'n_estimators': 2000}\n",
    "#rf_tum_params = {'bootstrap': False, 'max_depth': 50, 'max_features': 'auto', 'min_samples_leaf': 1, 'min_samples_split': 3, 'n_estimators': 2000}\n",
    "!cat /data/isprs/sklearn/random_forest_gaf.txt\n",
    "rf_gaf_params = {'bootstrap': False, 'max_depth': 60, 'max_features': 'auto', 'min_samples_leaf': 1, 'min_samples_split': 3, 'n_estimators': 1000}\n",
    "#rf_gaf_params = {'bootstrap': False, 'max_depth': None, 'max_features': 'auto', 'min_samples_leaf': 1, 'min_samples_split': 2, 'n_estimators': 1200}"
   ]
  },
  {
   "cell_type": "markdown",
   "metadata": {},
   "source": [
    "## Raw Dataset 23 classes"
   ]
  },
  {
   "cell_type": "code",
   "execution_count": 12,
   "metadata": {},
   "outputs": [
    {
     "name": "stdout",
     "output_type": "stream",
     "text": [
      "                        precision    recall  f1-score   support\n",
      "\n",
      "                fallow       0.23      0.15      0.19       356\n",
      "         fallow+flower       0.29      0.30      0.29       225\n",
      "               alfalfa       0.50      0.14      0.22       500\n",
      "             grassland       0.31      0.13      0.19       469\n",
      "         proteinplants       0.00      0.00      0.00        23\n",
      "          winter wheat       0.38      0.18      0.24       500\n",
      "                  corn       0.72      0.72      0.72       500\n",
      "          summer wheat       0.00      0.00      0.00        56\n",
      "              beetroot       1.00      0.06      0.12        16\n",
      "               potatoe       0.09      0.22      0.12       121\n",
      "   grassland+machining       0.29      0.34      0.32       500\n",
      "      grassland+cattle       0.15      0.29      0.19       226\n",
      "          winter spelt       1.00      0.02      0.04        52\n",
      "            winter rye       0.33      0.01      0.02       104\n",
      "         winter barley       0.49      0.26      0.34       500\n",
      "         summer barley       0.49      0.50      0.50       500\n",
      "            summer oat       0.20      0.48      0.28       248\n",
      "      winter triticale       0.21      0.53      0.30       466\n",
      "                  peas       0.29      0.16      0.20        90\n",
      "                 beans       0.00      0.00      0.00        12\n",
      "              rapeseed       0.67      0.70      0.69       257\n",
      "      summer oat (gps)       0.00      0.00      0.00        27\n",
      "winter triticale (gps)       0.00      0.00      0.00        33\n",
      "\n",
      "              accuracy                           0.33      5781\n",
      "             macro avg       0.33      0.23      0.22      5781\n",
      "          weighted avg       0.38      0.33      0.32      5781\n",
      "\n",
      "overall accuracy = 0.33, kappa = 0.28, precision = 0.33, recall=0.23, f1=0.22\n"
     ]
    },
    {
     "name": "stderr",
     "output_type": "stream",
     "text": [
      "/home/marc/miniconda3/envs/pytorch/lib/python3.7/site-packages/sklearn/metrics/classification.py:1437: UndefinedMetricWarning: Precision and F-score are ill-defined and being set to 0.0 in labels with no predicted samples.\n",
      "  'precision', 'predicted', average, warn_for)\n"
     ]
    }
   ],
   "source": [
    "X,y,ids, Xtest, ytest, idstest, classnames, class_idxs = tum_ds\n",
    "\n",
    "rf_tum = RandomForestClassifier(n_jobs=-1,**rf_tum_params)\n",
    "rf_tum.fit(flatten(X),y)\n",
    "y_pred = rf_tum.predict(flatten(Xtest))\n",
    "print(classification_report(ytest, y_pred,labels=class_idxs, target_names=classnames))\n",
    "metrics = confusion_matrix_to_accuraccies(confusion_matrix(ytest,y_pred))\n",
    "overall_accuracy, kappa, precision, recall, f1, cl_acc = metrics\n",
    "print(f\"overall accuracy = {overall_accuracy:.2f}, kappa = {kappa:.2f}, precision = {precision.mean():.2f},\",\n",
    "      f\"recall={recall.mean():.2f}, f1={f1.mean():.2f}\")"
   ]
  },
  {
   "cell_type": "raw",
   "metadata": {},
   "source": [
    "                     precision    recall  f1-score   support\n",
    "\n",
    "             fallow       0.23      0.15      0.19       356\n",
    "      fallow+flower       0.29      0.30      0.29       225\n",
    "            alfalfa       0.50      0.14      0.22       500\n",
    "          grassland       0.31      0.13      0.19       469\n",
    "      proteinplants       0.00      0.00      0.00        23\n",
    "       winter wheat       0.38      0.18      0.24       500\n",
    "               corn       0.72      0.72      0.72       500\n",
    "       summer wheat       0.00      0.00      0.00        56\n",
    "           beetroot       1.00      0.06      0.12        16\n",
    "            potatoe       0.09      0.22      0.12       121\n",
    "grassland+machining       0.29      0.34      0.32       500\n",
    "   grassland+cattle       0.15      0.29      0.19       226\n",
    "       winter spelt       1.00      0.02      0.04        52\n",
    "         winter rye       0.33      0.01      0.02       104\n",
    "      winter barley       0.49      0.26      0.34       500\n",
    "      summer barley       0.49      0.50      0.50       500\n",
    "         summer oat       0.20      0.48      0.28       248\n",
    "   winter triticale       0.21      0.53      0.30       466\n",
    "               peas       0.29      0.16      0.20        90\n",
    "              beans       0.00      0.00      0.00        12\n",
    "           rapeseed       0.67      0.70      0.69       257\n",
    "         summeroats       0.00      0.00      0.00        27\n",
    "    wintertriticale       0.00      0.00      0.00        33\n",
    "\n",
    "           accuracy                           0.33      5781\n",
    "          macro avg       0.33      0.23      0.22      5781\n",
    "       weighted avg       0.38      0.33      0.32      5781\n",
    "\n",
    "overall accuracy = 0.33, kappa = 0.28, precision = 0.33, recall=0.23, f1=0.22"
   ]
  },
  {
   "cell_type": "markdown",
   "metadata": {},
   "source": [
    "## Preprocessed Dataset 23 classes"
   ]
  },
  {
   "cell_type": "code",
   "execution_count": 13,
   "metadata": {},
   "outputs": [
    {
     "name": "stdout",
     "output_type": "stream",
     "text": [
      "                        precision    recall  f1-score   support\n",
      "\n",
      "                fallow       0.31      0.35      0.33       136\n",
      "         fallow+flower       0.69      0.75      0.72       159\n",
      "               alfalfa       0.63      0.41      0.49       500\n",
      "             grassland       0.33      0.31      0.32       314\n",
      "         proteinplants       0.00      0.00      0.00        21\n",
      "          winter wheat       0.63      0.52      0.57       500\n",
      "                  corn       0.99      0.98      0.98       500\n",
      "          summer wheat       1.00      0.12      0.22        33\n",
      "              beetroot       1.00      0.30      0.46        10\n",
      "               potatoe       0.20      0.40      0.27         5\n",
      "   grassland+machining       0.53      0.42      0.47       500\n",
      "      grassland+cattle       0.24      0.66      0.35       153\n",
      "          winter spelt       0.60      0.15      0.24        41\n",
      "            winter rye       0.58      0.11      0.19        97\n",
      "         winter barley       0.82      0.71      0.76       500\n",
      "         summer barley       0.75      0.86      0.80       500\n",
      "            summer oat       0.52      0.79      0.63       196\n",
      "      winter triticale       0.45      0.63      0.53       412\n",
      "                  peas       0.64      0.72      0.68        76\n",
      "                 beans       1.00      0.50      0.67        10\n",
      "              rapeseed       0.91      0.92      0.92       248\n",
      "      summer oat (gps)       0.00      0.00      0.00        24\n",
      "winter triticale (gps)       0.53      0.32      0.40        28\n",
      "\n",
      "              accuracy                           0.61      4963\n",
      "             macro avg       0.58      0.48      0.48      4963\n",
      "          weighted avg       0.64      0.61      0.61      4963\n",
      "\n",
      "overall accuracy = 0.61, kappa = 0.58, precision = 0.58, recall=0.48, f1=0.48\n"
     ]
    },
    {
     "name": "stderr",
     "output_type": "stream",
     "text": [
      "/home/marc/miniconda3/envs/pytorch/lib/python3.7/site-packages/sklearn/metrics/classification.py:1437: UndefinedMetricWarning: Precision and F-score are ill-defined and being set to 0.0 in labels with no predicted samples.\n",
      "  'precision', 'predicted', average, warn_for)\n"
     ]
    }
   ],
   "source": [
    "X,y,ids, Xtest, ytest, idstest, classnames, class_idxs = gaf_ds\n",
    "\n",
    "rf_tum = RandomForestClassifier(n_jobs=-1,**rf_gaf_params)\n",
    "rf_tum.fit(flatten(X),y)\n",
    "y_pred = rf_tum.predict(flatten(Xtest))\n",
    "print(classification_report(ytest, y_pred,labels=class_idxs, target_names=classnames))\n",
    "metrics = confusion_matrix_to_accuraccies(confusion_matrix(ytest,y_pred))\n",
    "overall_accuracy, kappa, precision, recall, f1, cl_acc = metrics\n",
    "print(f\"overall accuracy = {overall_accuracy:.2f}, kappa = {kappa:.2f}, precision = {precision.mean():.2f},\",\n",
    "      f\"recall={recall.mean():.2f}, f1={f1.mean():.2f}\")"
   ]
  },
  {
   "cell_type": "raw",
   "metadata": {},
   "source": [
    "     precision    recall  f1-score   support\n",
    "\n",
    "             fallow       0.31      0.35      0.33       136\n",
    "      fallow+flower       0.69      0.75      0.72       159\n",
    "            alfalfa       0.63      0.41      0.49       500\n",
    "          grassland       0.33      0.31      0.32       314\n",
    "      proteinplants       0.00      0.00      0.00        21\n",
    "       winter wheat       0.63      0.52      0.57       500\n",
    "               corn       0.99      0.98      0.98       500\n",
    "       summer wheat       1.00      0.12      0.22        33\n",
    "           beetroot       1.00      0.30      0.46        10\n",
    "            potatoe       0.20      0.40      0.27         5\n",
    "grassland+machining       0.53      0.42      0.47       500\n",
    "   grassland+cattle       0.24      0.66      0.35       153\n",
    "       winter spelt       0.60      0.15      0.24        41\n",
    "         winter rye       0.58      0.11      0.19        97\n",
    "      winter barley       0.82      0.71      0.76       500\n",
    "      summer barley       0.75      0.86      0.80       500\n",
    "         summer oat       0.52      0.79      0.63       196\n",
    "   winter triticale       0.45      0.63      0.53       412\n",
    "               peas       0.64      0.72      0.68        76\n",
    "              beans       1.00      0.50      0.67        10\n",
    "           rapeseed       0.91      0.92      0.92       248\n",
    "         summeroats       0.00      0.00      0.00        24\n",
    "    wintertriticale       0.53      0.32      0.40        28\n",
    "\n",
    "           accuracy                           0.61      4963\n",
    "          macro avg       0.58      0.48      0.48      4963\n",
    "       weighted avg       0.64      0.61      0.61      4963\n",
    "\n",
    "overall accuracy = 0.61, kappa = 0.58, precision = 0.58, recall=0.48, f1=0.48"
   ]
  },
  {
   "cell_type": "markdown",
   "metadata": {},
   "source": [
    "## raw Dataset 12 classes"
   ]
  },
  {
   "cell_type": "code",
   "execution_count": 14,
   "metadata": {},
   "outputs": [
    {
     "name": "stdout",
     "output_type": "stream",
     "text": [
      "                  precision    recall  f1-score   support\n",
      "\n",
      "          fallow       0.53      0.38      0.45       500\n",
      "       grassland       0.63      0.56      0.60       500\n",
      "    winter wheat       0.42      0.21      0.28       500\n",
      "            corn       0.82      0.79      0.80       500\n",
      "    summer wheat       0.00      0.00      0.00        56\n",
      "    winter spelt       0.00      0.00      0.00        52\n",
      "      winter rye       0.22      0.02      0.04       104\n",
      "   winter barley       0.52      0.26      0.35       500\n",
      "   summer barley       0.53      0.48      0.51       500\n",
      "      summer oat       0.25      0.59      0.35       275\n",
      "winter triticale       0.25      0.56      0.35       499\n",
      "        rapeseed       0.79      0.73      0.76       257\n",
      "\n",
      "        accuracy                           0.47      4243\n",
      "       macro avg       0.41      0.38      0.37      4243\n",
      "    weighted avg       0.51      0.47      0.46      4243\n",
      "\n",
      "overall accuracy = 0.47, kappa = 0.40, precision = 0.41, recall=0.38, f1=0.37\n"
     ]
    },
    {
     "name": "stderr",
     "output_type": "stream",
     "text": [
      "/home/marc/miniconda3/envs/pytorch/lib/python3.7/site-packages/sklearn/metrics/classification.py:1437: UndefinedMetricWarning: Precision and F-score are ill-defined and being set to 0.0 in labels with no predicted samples.\n",
      "  'precision', 'predicted', average, warn_for)\n"
     ]
    }
   ],
   "source": [
    "X,y,ids, Xtest, ytest, idstest, classnames, class_idxs = tum12_ds\n",
    "\n",
    "rf_tum = RandomForestClassifier(n_jobs=-1,**rf_tum_params)\n",
    "rf_tum.fit(flatten(X),y)\n",
    "y_pred = rf_tum.predict(flatten(Xtest))\n",
    "print(classification_report(ytest, y_pred,labels=class_idxs, target_names=classnames))\n",
    "metrics = confusion_matrix_to_accuraccies(confusion_matrix(ytest,y_pred))\n",
    "overall_accuracy, kappa, precision, recall, f1, cl_acc = metrics\n",
    "print(f\"overall accuracy = {overall_accuracy:.2f}, kappa = {kappa:.2f}, precision = {precision.mean():.2f},\",\n",
    "      f\"recall={recall.mean():.2f}, f1={f1.mean():.2f}\")"
   ]
  },
  {
   "cell_type": "markdown",
   "metadata": {},
   "source": [
    "## pre Dataset 12 classes"
   ]
  },
  {
   "cell_type": "code",
   "execution_count": 15,
   "metadata": {},
   "outputs": [
    {
     "name": "stdout",
     "output_type": "stream",
     "text": [
      "                  precision    recall  f1-score   support\n",
      "\n",
      "          fallow       0.66      0.87      0.75       295\n",
      "       grassland       0.93      0.79      0.85       500\n",
      "    winter wheat       0.68      0.50      0.57       500\n",
      "            corn       1.00      0.98      0.99       500\n",
      "    summer wheat       1.00      0.15      0.26        33\n",
      "    winter spelt       0.64      0.17      0.27        41\n",
      "      winter rye       0.37      0.13      0.20        97\n",
      "   winter barley       0.80      0.71      0.75       500\n",
      "   summer barley       0.70      0.89      0.79       500\n",
      "      summer oat       0.62      0.74      0.68       220\n",
      "winter triticale       0.51      0.66      0.58       440\n",
      "        rapeseed       0.89      0.91      0.90       248\n",
      "\n",
      "        accuracy                           0.75      3874\n",
      "       macro avg       0.73      0.62      0.63      3874\n",
      "    weighted avg       0.76      0.75      0.74      3874\n",
      "\n",
      "overall accuracy = 0.75, kappa = 0.71, precision = 0.73, recall=0.62, f1=0.63\n"
     ]
    }
   ],
   "source": [
    "X,y,ids, Xtest, ytest, idstest, classnames, class_idxs = gaf12_ds\n",
    "\n",
    "rf_tum = RandomForestClassifier(n_jobs=-1,**rf_tum_params)\n",
    "rf_tum.fit(flatten(X),y)\n",
    "y_pred = rf_tum.predict(flatten(Xtest))\n",
    "print(classification_report(ytest, y_pred,labels=class_idxs, target_names=classnames))\n",
    "metrics = confusion_matrix_to_accuraccies(confusion_matrix(ytest,y_pred))\n",
    "overall_accuracy, kappa, precision, recall, f1, cl_acc = metrics\n",
    "print(f\"overall accuracy = {overall_accuracy:.2f}, kappa = {kappa:.2f}, precision = {precision.mean():.2f},\",\n",
    "      f\"recall={recall.mean():.2f}, f1={f1.mean():.2f}\")"
   ]
  }
 ],
 "metadata": {
  "kernelspec": {
   "display_name": "Python 3",
   "language": "python",
   "name": "python3"
  },
  "language_info": {
   "codemirror_mode": {
    "name": "ipython",
    "version": 3
   },
   "file_extension": ".py",
   "mimetype": "text/x-python",
   "name": "python",
   "nbconvert_exporter": "python",
   "pygments_lexer": "ipython3",
   "version": "3.7.3"
  }
 },
 "nbformat": 4,
 "nbformat_minor": 2
}

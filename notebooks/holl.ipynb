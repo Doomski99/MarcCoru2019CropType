{
 "cells": [
  {
   "cell_type": "code",
   "execution_count": 13,
   "metadata": {},
   "outputs": [],
   "source": [
    "import torch\n",
    "import sys\n",
    "sys.path.append(\"../src\")\n",
    "sys.path.append(\"../src/models\")\n",
    "from train import getModel, prepare_dataset\n",
    "from experiments import experiments\n",
    "import argparse\n",
    "import tqdm\n",
    "import numpy as np\n",
    "from datasets.ConcatDataset import ConcatDataset\n",
    "import pandas as pd\n",
    "import geopandas as gpd\n",
    "import sklearn.metrics\n",
    "import os\n",
    "import matplotlib.pyplot as plt\n",
    "import matplotlib.patheffects as path_effects\n",
    "\n",
    "figdir=\"/home/marc/projects/ISPRS_CropTypeMapping/images/regions\""
   ]
  },
  {
   "cell_type": "markdown",
   "metadata": {},
   "source": [
    "### Evaluate pretrained model with one dataloader"
   ]
  },
  {
   "cell_type": "code",
   "execution_count": 23,
   "metadata": {},
   "outputs": [],
   "source": [
    "def get_run(seed,experiment, root):\n",
    "    log = pd.read_csv(os.path.join(root,str(seed),experiment,\"log.csv\"))\n",
    "    test = log.loc[log[\"mode\"]==\"test\"]\n",
    "    return test.sort_values(by=\"kappa\", ascending=False).iloc[0]\n",
    "\n",
    "def table_row(means, stds,sigmainterval=1):\n",
    "    line = list()\n",
    "    for mean, std in zip(means, stds):\n",
    "        line.append(f\"{mean:.2f}\" + \"$^{\\pm\" + f\"{std*sigmainterval:.2f}\" + \"}$\")\n",
    "    return \" & \".join(line) + \" \\\\\\ \"\n",
    "\n",
    "def get_acc_kappa(exp,root=\"/data/isprs/holl\"):\n",
    "    isprs_gaf_rnn_holl = [get_run(seed,exp[0],root=root) for seed in [0,1,2]]\n",
    "    isprs_gaf_transformer_holl = [get_run(seed,exp[1],root=root) for seed in [0,1,2]]\n",
    "    isprs_gaf_msresnet_holl = [get_run(seed,exp[2],root=root) for seed in [0,1,2]]\n",
    "    isprs_gaf_tempcnn_holl = [get_run(seed,exp[3],root=root) for seed in [0,1,2]]\n",
    "\n",
    "    isprs_gaf_rnn_holl_kappa = np.array([run.kappa for run in isprs_gaf_rnn_holl])\n",
    "    isprs_gaf_rnn_holl_accuracy = np.array([run.accuracy for run in isprs_gaf_rnn_holl])\n",
    "    isprs_gaf_transformer_holl_kappa = np.array([run.kappa for run in isprs_gaf_transformer_holl])\n",
    "    isprs_gaf_transformer_holl_accuracy = np.array([run.accuracy for run in isprs_gaf_transformer_holl])\n",
    "    isprs_gaf_msresnet_holl_kappa = np.array([run.kappa for run in isprs_gaf_msresnet_holl])\n",
    "    isprs_gaf_msresnet_holl_accuracy = np.array([run.accuracy for run in isprs_gaf_msresnet_holl])\n",
    "    isprs_gaf_tempcnn_holl_kappa = np.array([run.kappa for run in isprs_gaf_tempcnn_holl])\n",
    "    isprs_gaf_tempcnn_holl_accuracy = np.array([run.accuracy for run in isprs_gaf_tempcnn_holl])\n",
    "\n",
    "    hollgaf_kappa = [m.mean() for m in [isprs_gaf_rnn_holl_kappa,isprs_gaf_transformer_holl_kappa,isprs_gaf_msresnet_holl_kappa,isprs_gaf_tempcnn_holl_kappa]]\n",
    "    hollgaf_kappa_std = [m.std() for m in [isprs_gaf_rnn_holl_kappa,isprs_gaf_transformer_holl_kappa,isprs_gaf_msresnet_holl_kappa,isprs_gaf_tempcnn_holl_kappa]]\n",
    "\n",
    "    hollgaf_acc = [m.mean() for m in [isprs_gaf_rnn_holl_accuracy,isprs_gaf_transformer_holl_accuracy,isprs_gaf_msresnet_holl_accuracy,isprs_gaf_tempcnn_holl_accuracy]]\n",
    "    hollgaf_acc_std = [m.std() for m in [isprs_gaf_rnn_holl_accuracy,isprs_gaf_transformer_holl_accuracy,isprs_gaf_msresnet_holl_accuracy,isprs_gaf_tempcnn_holl_accuracy]]\n",
    "    return hollgaf_kappa, hollgaf_kappa_std, hollgaf_acc, hollgaf_acc_std\n",
    "\n",
    "def fill_table(rows,desc=\"ov.acc\"):\n",
    "    return r\"\"\"\\begin{tabular}{lllcccc}\n",
    "\\toprule\n",
    "\"\"\"+desc+r\"\"\" & trained on & tested on & \\rnn & \\transformer & \\msresnet & \\tempcnn \\\\\n",
    "\\cmidrule(lr){4-4}\\cmidrule(lr){5-5}\\cmidrule(lr){6-6}\\cmidrule(lr){7-7}\n",
    "    \"\"\"+rows+r\"\"\"\n",
    "\\bottomrule\n",
    "\\end{tabular}\"\"\"\n",
    "\n",
    "def make_table(exp1,exp1_std,exp2,exp2_std,exp3,exp3_std,desc, train_on, test_on):\n",
    "\n",
    "    line1 = f\"\\tprocessed & {train_on[0]} & {test_on[0]} & \"+table_row(exp1,exp1_std,sigmainterval=1)\n",
    "    line2 = f\"\\traw       & {train_on[1]} & {test_on[1]} & \"+table_row(exp2,exp2_std,sigmainterval=1)\n",
    "    line3 = f\"\\traw       & {train_on[2]} & {test_on[2]} & \"+table_row(exp3,exp3_std,sigmainterval=1)\n",
    "    rows = \"\\n\".join([line1,line2,line3])\n",
    "    return fill_table(rows,desc)"
   ]
  },
  {
   "cell_type": "markdown",
   "metadata": {},
   "source": [
    "## Hollfeld experiment\n",
    "\n",
    "Preprocessed model trained on HOLL\n",
    "raw model either trained on HOLL or KRUM+NOWA+HOLL"
   ]
  },
  {
   "cell_type": "markdown",
   "metadata": {},
   "source": [
    "## 23 classes"
   ]
  },
  {
   "cell_type": "code",
   "execution_count": 31,
   "metadata": {},
   "outputs": [
    {
     "data": {
      "text/plain": [
       "Unnamed: 0                1\n",
       "epoch                     1\n",
       "iteration               NaN\n",
       "mode                   test\n",
       "accuracy           0.470997\n",
       "loss                2.08724\n",
       "mean_accuracy     0.0434783\n",
       "mean_recall       0.0434783\n",
       "mean_precision    0.0204781\n",
       "mean_f1           0.0278425\n",
       "kappa                     0\n",
       "Name: 1, dtype: object"
      ]
     },
     "execution_count": 31,
     "metadata": {},
     "output_type": "execute_result"
    }
   ],
   "source": [
    "get_run(2,\"isprs_tum_rnn_holl\", root)"
   ]
  },
  {
   "cell_type": "code",
   "execution_count": 33,
   "metadata": {},
   "outputs": [
    {
     "name": "stdout",
     "output_type": "stream",
     "text": [
      "kappa\n",
      "\n",
      "\\begin{tabular}{lllcccc}\n",
      "\\toprule\n",
      "ov.acc & trained on & tested on & \\rnn & \\transformer & \\msresnet & \\tempcnn \\\\\n",
      "\\cmidrule(lr){4-4}\\cmidrule(lr){5-5}\\cmidrule(lr){6-6}\\cmidrule(lr){7-7}\n",
      "    \tprocessed & Hollfeld & Hollfeld & 0.74$^{\\pm0.00}$ & 0.76$^{\\pm0.01}$ & 0.78$^{\\pm0.01}$ & 0.78$^{\\pm0.00}$ \\\\ \n",
      "\traw       & Hollfeld+Krumbach+Bav.Forest & Hollfeld & 0.63$^{\\pm0.06}$ & 0.70$^{\\pm0.02}$ & 0.66$^{\\pm0.00}$ & 0.62$^{\\pm0.02}$ \\\\ \n",
      "\traw       & Hollfeld & Hollfeld & 0.22$^{\\pm0.31}$ & 0.64$^{\\pm0.06}$ & 0.66$^{\\pm0.00}$ & 0.62$^{\\pm0.01}$ \\\\ \n",
      "\\bottomrule\n",
      "\\end{tabular}\n",
      "\n",
      "writing to /home/marc/projects/ISPRS_CropTypeMapping/tables/holl/kappa.tex\n",
      "\n",
      "kappa\n",
      "\n",
      "\\begin{tabular}{lllcccc}\n",
      "\\toprule\n",
      "kappa & trained on & tested on & \\rnn & \\transformer & \\msresnet & \\tempcnn \\\\\n",
      "\\cmidrule(lr){4-4}\\cmidrule(lr){5-5}\\cmidrule(lr){6-6}\\cmidrule(lr){7-7}\n",
      "    \tprocessed & Hollfeld & Hollfeld & 0.80$^{\\pm0.00}$ & 0.81$^{\\pm0.00}$ & 0.83$^{\\pm0.01}$ & 0.83$^{\\pm0.00}$ \\\\ \n",
      "\traw       & Hollfeld+Krumbach+Bav.Forest & Hollfeld & 0.74$^{\\pm0.04}$ & 0.78$^{\\pm0.01}$ & 0.75$^{\\pm0.00}$ & 0.73$^{\\pm0.01}$ \\\\ \n",
      "\traw       & Hollfeld & Hollfeld & 0.57$^{\\pm0.13}$ & 0.73$^{\\pm0.04}$ & 0.75$^{\\pm0.00}$ & 0.73$^{\\pm0.01}$ \\\\ \n",
      "\\bottomrule\n",
      "\\end{tabular}\n",
      "\n",
      "writing to /home/marc/projects/ISPRS_CropTypeMapping/tables/holl/accuracy.tex\n",
      "\n"
     ]
    }
   ],
   "source": [
    "root = \"/data/isprs/holl\"\n",
    "tableroot = \"/home/marc/projects/ISPRS_CropTypeMapping/tables/holl\"\n",
    "\n",
    "exp=[\"isprs_gaf_rnn_holl\", \"isprs_gaf_transformer_holl\", \"isprs_gaf_msresnet_holl\", \"isprs_gaf_tempcnn_holl\"]\n",
    "hollgaf_kappa, hollgaf_kappa_std, hollgaf_acc, hollgaf_acc_std = get_acc_kappa(exp,root=root)\n",
    "exp=[\"isprs_tum_rnn_all\",\"isprs_tum_transformer_all\",\"isprs_tum_msresnet_all\", \"isprs_tum_tempcnn_all\"]\n",
    "alltum_kappa, alltum_kappa_std, alltum_acc, alltum_acc_std = get_acc_kappa(exp,root=root)\n",
    "exp = [\"isprs_tum_rnn_holl\", \"isprs_tum_transformer_holl\", \"isprs_tum_msresnet_holl\", \"isprs_tum_tempcnn_holl\"]\n",
    "holltum_kappa, holltum_kappa_std, holltum_acc, holltum_acc_std = get_acc_kappa(exp,root=root)\n",
    "\n",
    "train_on = [\"Hollfeld\",\"Hollfeld+Krumbach+Bav.Forest\",\"Hollfeld\"]\n",
    "test_on = [\"Hollfeld\",\"Hollfeld\",\"Hollfeld\"]\n",
    "\n",
    "print(\"kappa\")\n",
    "print()\n",
    "table=make_table(hollgaf_kappa,hollgaf_kappa_std,alltum_kappa,alltum_kappa_std, holltum_kappa,holltum_kappa_std,\n",
    "                 \"ov.acc\", train_on, test_on)\n",
    "print(table)\n",
    "print()\n",
    "fname = os.path.join(tableroot,\"kappa.tex\")\n",
    "print(f\"writing to {fname}\")\n",
    "print(table,file=open(fname,'w'))\n",
    "print()\n",
    "print(\"kappa\")\n",
    "print()\n",
    "table = make_table(hollgaf_acc,hollgaf_acc_std,alltum_acc,alltum_acc_std, holltum_acc,holltum_acc_std,\n",
    "                   \"kappa\", train_on, test_on)\n",
    "print(table)\n",
    "print()\n",
    "fname = os.path.join(tableroot,\"accuracy.tex\")\n",
    "print(f\"writing to {fname}\")\n",
    "print(table,\n",
    "      file=open(fname,'w'))\n",
    "print()"
   ]
  },
  {
   "cell_type": "markdown",
   "metadata": {},
   "source": [
    "## 12 classes"
   ]
  },
  {
   "cell_type": "code",
   "execution_count": 25,
   "metadata": {},
   "outputs": [
    {
     "ename": "FileNotFoundError",
     "evalue": "[Errno 2] File b'/data/isprs/holl2/1/isprs_tum_rnn_all/log.csv' does not exist: b'/data/isprs/holl2/1/isprs_tum_rnn_all/log.csv'",
     "output_type": "error",
     "traceback": [
      "\u001b[0;31m---------------------------------------------------------------------------\u001b[0m",
      "\u001b[0;31mFileNotFoundError\u001b[0m                         Traceback (most recent call last)",
      "\u001b[0;32m<ipython-input-25-5d720157d4ca>\u001b[0m in \u001b[0;36m<module>\u001b[0;34m\u001b[0m\n\u001b[1;32m      6\u001b[0m     \u001b[0mhollgaf_kappa\u001b[0m\u001b[0;34m,\u001b[0m \u001b[0mhollgaf_kappa_std\u001b[0m\u001b[0;34m,\u001b[0m \u001b[0mhollgaf_acc\u001b[0m\u001b[0;34m,\u001b[0m \u001b[0mhollgaf_acc_std\u001b[0m \u001b[0;34m=\u001b[0m \u001b[0mget_acc_kappa\u001b[0m\u001b[0;34m(\u001b[0m\u001b[0mexp\u001b[0m\u001b[0;34m,\u001b[0m\u001b[0mroot\u001b[0m\u001b[0;34m=\u001b[0m\u001b[0mroot\u001b[0m\u001b[0;34m)\u001b[0m\u001b[0;34m\u001b[0m\u001b[0;34m\u001b[0m\u001b[0m\n\u001b[1;32m      7\u001b[0m     \u001b[0mexp\u001b[0m\u001b[0;34m=\u001b[0m\u001b[0;34m[\u001b[0m\u001b[0;34m\"isprs_tum_rnn_all\"\u001b[0m\u001b[0;34m,\u001b[0m\u001b[0;34m\"isprs_tum_transformer_all\"\u001b[0m\u001b[0;34m,\u001b[0m\u001b[0;34m\"isprs_tum_msresnet_all\"\u001b[0m\u001b[0;34m,\u001b[0m \u001b[0;34m\"isprs_tum_tempcnn_all\"\u001b[0m\u001b[0;34m]\u001b[0m\u001b[0;34m\u001b[0m\u001b[0;34m\u001b[0m\u001b[0m\n\u001b[0;32m----> 8\u001b[0;31m     \u001b[0malltum_kappa\u001b[0m\u001b[0;34m,\u001b[0m \u001b[0malltum_kappa_std\u001b[0m\u001b[0;34m,\u001b[0m \u001b[0malltum_acc\u001b[0m\u001b[0;34m,\u001b[0m \u001b[0malltum_acc_std\u001b[0m \u001b[0;34m=\u001b[0m \u001b[0mget_acc_kappa\u001b[0m\u001b[0;34m(\u001b[0m\u001b[0mexp\u001b[0m\u001b[0;34m,\u001b[0m\u001b[0mroot\u001b[0m\u001b[0;34m=\u001b[0m\u001b[0mroot\u001b[0m\u001b[0;34m)\u001b[0m\u001b[0;34m\u001b[0m\u001b[0;34m\u001b[0m\u001b[0m\n\u001b[0m\u001b[1;32m      9\u001b[0m     \u001b[0mexp\u001b[0m \u001b[0;34m=\u001b[0m \u001b[0;34m[\u001b[0m\u001b[0;34m\"isprs_tum_rnn_holl\"\u001b[0m\u001b[0;34m,\u001b[0m \u001b[0;34m\"isprs_tum_transformer_holl\"\u001b[0m\u001b[0;34m,\u001b[0m \u001b[0;34m\"isprs_tum_msresnet_holl\"\u001b[0m\u001b[0;34m,\u001b[0m \u001b[0;34m\"isprs_tum_tempcnn_holl\"\u001b[0m\u001b[0;34m]\u001b[0m\u001b[0;34m\u001b[0m\u001b[0;34m\u001b[0m\u001b[0m\n\u001b[1;32m     10\u001b[0m     \u001b[0mholltum_kappa\u001b[0m\u001b[0;34m,\u001b[0m \u001b[0mholltum_kappa_std\u001b[0m\u001b[0;34m,\u001b[0m \u001b[0mholltum_acc\u001b[0m\u001b[0;34m,\u001b[0m \u001b[0mholltum_acc_std\u001b[0m \u001b[0;34m=\u001b[0m \u001b[0mget_acc_kappa\u001b[0m\u001b[0;34m(\u001b[0m\u001b[0mexp\u001b[0m\u001b[0;34m,\u001b[0m\u001b[0mroot\u001b[0m\u001b[0;34m=\u001b[0m\u001b[0mroot\u001b[0m\u001b[0;34m)\u001b[0m\u001b[0;34m\u001b[0m\u001b[0;34m\u001b[0m\u001b[0m\n",
      "\u001b[0;32m<ipython-input-23-9e2a237f1351>\u001b[0m in \u001b[0;36mget_acc_kappa\u001b[0;34m(exp, root)\u001b[0m\n\u001b[1;32m     11\u001b[0m \u001b[0;34m\u001b[0m\u001b[0m\n\u001b[1;32m     12\u001b[0m \u001b[0;32mdef\u001b[0m \u001b[0mget_acc_kappa\u001b[0m\u001b[0;34m(\u001b[0m\u001b[0mexp\u001b[0m\u001b[0;34m,\u001b[0m\u001b[0mroot\u001b[0m\u001b[0;34m=\u001b[0m\u001b[0;34m\"/data/isprs/holl\"\u001b[0m\u001b[0;34m)\u001b[0m\u001b[0;34m:\u001b[0m\u001b[0;34m\u001b[0m\u001b[0;34m\u001b[0m\u001b[0m\n\u001b[0;32m---> 13\u001b[0;31m     \u001b[0misprs_gaf_rnn_holl\u001b[0m \u001b[0;34m=\u001b[0m \u001b[0;34m[\u001b[0m\u001b[0mget_run\u001b[0m\u001b[0;34m(\u001b[0m\u001b[0mseed\u001b[0m\u001b[0;34m,\u001b[0m\u001b[0mexp\u001b[0m\u001b[0;34m[\u001b[0m\u001b[0;36m0\u001b[0m\u001b[0;34m]\u001b[0m\u001b[0;34m,\u001b[0m\u001b[0mroot\u001b[0m\u001b[0;34m=\u001b[0m\u001b[0mroot\u001b[0m\u001b[0;34m)\u001b[0m \u001b[0;32mfor\u001b[0m \u001b[0mseed\u001b[0m \u001b[0;32min\u001b[0m \u001b[0;34m[\u001b[0m\u001b[0;36m0\u001b[0m\u001b[0;34m,\u001b[0m\u001b[0;36m1\u001b[0m\u001b[0;34m,\u001b[0m\u001b[0;36m2\u001b[0m\u001b[0;34m]\u001b[0m\u001b[0;34m]\u001b[0m\u001b[0;34m\u001b[0m\u001b[0;34m\u001b[0m\u001b[0m\n\u001b[0m\u001b[1;32m     14\u001b[0m     \u001b[0misprs_gaf_transformer_holl\u001b[0m \u001b[0;34m=\u001b[0m \u001b[0;34m[\u001b[0m\u001b[0mget_run\u001b[0m\u001b[0;34m(\u001b[0m\u001b[0mseed\u001b[0m\u001b[0;34m,\u001b[0m\u001b[0mexp\u001b[0m\u001b[0;34m[\u001b[0m\u001b[0;36m1\u001b[0m\u001b[0;34m]\u001b[0m\u001b[0;34m,\u001b[0m\u001b[0mroot\u001b[0m\u001b[0;34m=\u001b[0m\u001b[0mroot\u001b[0m\u001b[0;34m)\u001b[0m \u001b[0;32mfor\u001b[0m \u001b[0mseed\u001b[0m \u001b[0;32min\u001b[0m \u001b[0;34m[\u001b[0m\u001b[0;36m0\u001b[0m\u001b[0;34m,\u001b[0m\u001b[0;36m1\u001b[0m\u001b[0;34m,\u001b[0m\u001b[0;36m2\u001b[0m\u001b[0;34m]\u001b[0m\u001b[0;34m]\u001b[0m\u001b[0;34m\u001b[0m\u001b[0;34m\u001b[0m\u001b[0m\n\u001b[1;32m     15\u001b[0m     \u001b[0misprs_gaf_msresnet_holl\u001b[0m \u001b[0;34m=\u001b[0m \u001b[0;34m[\u001b[0m\u001b[0mget_run\u001b[0m\u001b[0;34m(\u001b[0m\u001b[0mseed\u001b[0m\u001b[0;34m,\u001b[0m\u001b[0mexp\u001b[0m\u001b[0;34m[\u001b[0m\u001b[0;36m2\u001b[0m\u001b[0;34m]\u001b[0m\u001b[0;34m,\u001b[0m\u001b[0mroot\u001b[0m\u001b[0;34m=\u001b[0m\u001b[0mroot\u001b[0m\u001b[0;34m)\u001b[0m \u001b[0;32mfor\u001b[0m \u001b[0mseed\u001b[0m \u001b[0;32min\u001b[0m \u001b[0;34m[\u001b[0m\u001b[0;36m0\u001b[0m\u001b[0;34m,\u001b[0m\u001b[0;36m1\u001b[0m\u001b[0;34m,\u001b[0m\u001b[0;36m2\u001b[0m\u001b[0;34m]\u001b[0m\u001b[0;34m]\u001b[0m\u001b[0;34m\u001b[0m\u001b[0;34m\u001b[0m\u001b[0m\n",
      "\u001b[0;32m<ipython-input-23-9e2a237f1351>\u001b[0m in \u001b[0;36m<listcomp>\u001b[0;34m(.0)\u001b[0m\n\u001b[1;32m     11\u001b[0m \u001b[0;34m\u001b[0m\u001b[0m\n\u001b[1;32m     12\u001b[0m \u001b[0;32mdef\u001b[0m \u001b[0mget_acc_kappa\u001b[0m\u001b[0;34m(\u001b[0m\u001b[0mexp\u001b[0m\u001b[0;34m,\u001b[0m\u001b[0mroot\u001b[0m\u001b[0;34m=\u001b[0m\u001b[0;34m\"/data/isprs/holl\"\u001b[0m\u001b[0;34m)\u001b[0m\u001b[0;34m:\u001b[0m\u001b[0;34m\u001b[0m\u001b[0;34m\u001b[0m\u001b[0m\n\u001b[0;32m---> 13\u001b[0;31m     \u001b[0misprs_gaf_rnn_holl\u001b[0m \u001b[0;34m=\u001b[0m \u001b[0;34m[\u001b[0m\u001b[0mget_run\u001b[0m\u001b[0;34m(\u001b[0m\u001b[0mseed\u001b[0m\u001b[0;34m,\u001b[0m\u001b[0mexp\u001b[0m\u001b[0;34m[\u001b[0m\u001b[0;36m0\u001b[0m\u001b[0;34m]\u001b[0m\u001b[0;34m,\u001b[0m\u001b[0mroot\u001b[0m\u001b[0;34m=\u001b[0m\u001b[0mroot\u001b[0m\u001b[0;34m)\u001b[0m \u001b[0;32mfor\u001b[0m \u001b[0mseed\u001b[0m \u001b[0;32min\u001b[0m \u001b[0;34m[\u001b[0m\u001b[0;36m0\u001b[0m\u001b[0;34m,\u001b[0m\u001b[0;36m1\u001b[0m\u001b[0;34m,\u001b[0m\u001b[0;36m2\u001b[0m\u001b[0;34m]\u001b[0m\u001b[0;34m]\u001b[0m\u001b[0;34m\u001b[0m\u001b[0;34m\u001b[0m\u001b[0m\n\u001b[0m\u001b[1;32m     14\u001b[0m     \u001b[0misprs_gaf_transformer_holl\u001b[0m \u001b[0;34m=\u001b[0m \u001b[0;34m[\u001b[0m\u001b[0mget_run\u001b[0m\u001b[0;34m(\u001b[0m\u001b[0mseed\u001b[0m\u001b[0;34m,\u001b[0m\u001b[0mexp\u001b[0m\u001b[0;34m[\u001b[0m\u001b[0;36m1\u001b[0m\u001b[0;34m]\u001b[0m\u001b[0;34m,\u001b[0m\u001b[0mroot\u001b[0m\u001b[0;34m=\u001b[0m\u001b[0mroot\u001b[0m\u001b[0;34m)\u001b[0m \u001b[0;32mfor\u001b[0m \u001b[0mseed\u001b[0m \u001b[0;32min\u001b[0m \u001b[0;34m[\u001b[0m\u001b[0;36m0\u001b[0m\u001b[0;34m,\u001b[0m\u001b[0;36m1\u001b[0m\u001b[0;34m,\u001b[0m\u001b[0;36m2\u001b[0m\u001b[0;34m]\u001b[0m\u001b[0;34m]\u001b[0m\u001b[0;34m\u001b[0m\u001b[0;34m\u001b[0m\u001b[0m\n\u001b[1;32m     15\u001b[0m     \u001b[0misprs_gaf_msresnet_holl\u001b[0m \u001b[0;34m=\u001b[0m \u001b[0;34m[\u001b[0m\u001b[0mget_run\u001b[0m\u001b[0;34m(\u001b[0m\u001b[0mseed\u001b[0m\u001b[0;34m,\u001b[0m\u001b[0mexp\u001b[0m\u001b[0;34m[\u001b[0m\u001b[0;36m2\u001b[0m\u001b[0;34m]\u001b[0m\u001b[0;34m,\u001b[0m\u001b[0mroot\u001b[0m\u001b[0;34m=\u001b[0m\u001b[0mroot\u001b[0m\u001b[0;34m)\u001b[0m \u001b[0;32mfor\u001b[0m \u001b[0mseed\u001b[0m \u001b[0;32min\u001b[0m \u001b[0;34m[\u001b[0m\u001b[0;36m0\u001b[0m\u001b[0;34m,\u001b[0m\u001b[0;36m1\u001b[0m\u001b[0;34m,\u001b[0m\u001b[0;36m2\u001b[0m\u001b[0;34m]\u001b[0m\u001b[0;34m]\u001b[0m\u001b[0;34m\u001b[0m\u001b[0;34m\u001b[0m\u001b[0m\n",
      "\u001b[0;32m<ipython-input-23-9e2a237f1351>\u001b[0m in \u001b[0;36mget_run\u001b[0;34m(seed, experiment, root)\u001b[0m\n\u001b[1;32m      1\u001b[0m \u001b[0;32mdef\u001b[0m \u001b[0mget_run\u001b[0m\u001b[0;34m(\u001b[0m\u001b[0mseed\u001b[0m\u001b[0;34m,\u001b[0m\u001b[0mexperiment\u001b[0m\u001b[0;34m,\u001b[0m \u001b[0mroot\u001b[0m\u001b[0;34m)\u001b[0m\u001b[0;34m:\u001b[0m\u001b[0;34m\u001b[0m\u001b[0;34m\u001b[0m\u001b[0m\n\u001b[0;32m----> 2\u001b[0;31m     \u001b[0mlog\u001b[0m \u001b[0;34m=\u001b[0m \u001b[0mpd\u001b[0m\u001b[0;34m.\u001b[0m\u001b[0mread_csv\u001b[0m\u001b[0;34m(\u001b[0m\u001b[0mos\u001b[0m\u001b[0;34m.\u001b[0m\u001b[0mpath\u001b[0m\u001b[0;34m.\u001b[0m\u001b[0mjoin\u001b[0m\u001b[0;34m(\u001b[0m\u001b[0mroot\u001b[0m\u001b[0;34m,\u001b[0m\u001b[0mstr\u001b[0m\u001b[0;34m(\u001b[0m\u001b[0mseed\u001b[0m\u001b[0;34m)\u001b[0m\u001b[0;34m,\u001b[0m\u001b[0mexperiment\u001b[0m\u001b[0;34m,\u001b[0m\u001b[0;34m\"log.csv\"\u001b[0m\u001b[0;34m)\u001b[0m\u001b[0;34m)\u001b[0m\u001b[0;34m\u001b[0m\u001b[0;34m\u001b[0m\u001b[0m\n\u001b[0m\u001b[1;32m      3\u001b[0m     \u001b[0mtest\u001b[0m \u001b[0;34m=\u001b[0m \u001b[0mlog\u001b[0m\u001b[0;34m.\u001b[0m\u001b[0mloc\u001b[0m\u001b[0;34m[\u001b[0m\u001b[0mlog\u001b[0m\u001b[0;34m[\u001b[0m\u001b[0;34m\"mode\"\u001b[0m\u001b[0;34m]\u001b[0m\u001b[0;34m==\u001b[0m\u001b[0;34m\"test\"\u001b[0m\u001b[0;34m]\u001b[0m\u001b[0;34m\u001b[0m\u001b[0;34m\u001b[0m\u001b[0m\n\u001b[1;32m      4\u001b[0m     \u001b[0;32mreturn\u001b[0m \u001b[0mtest\u001b[0m\u001b[0;34m.\u001b[0m\u001b[0msort_values\u001b[0m\u001b[0;34m(\u001b[0m\u001b[0mby\u001b[0m\u001b[0;34m=\u001b[0m\u001b[0;34m\"kappa\"\u001b[0m\u001b[0;34m,\u001b[0m \u001b[0mascending\u001b[0m\u001b[0;34m=\u001b[0m\u001b[0;32mFalse\u001b[0m\u001b[0;34m)\u001b[0m\u001b[0;34m.\u001b[0m\u001b[0miloc\u001b[0m\u001b[0;34m[\u001b[0m\u001b[0;36m0\u001b[0m\u001b[0;34m]\u001b[0m\u001b[0;34m\u001b[0m\u001b[0;34m\u001b[0m\u001b[0m\n\u001b[1;32m      5\u001b[0m \u001b[0;34m\u001b[0m\u001b[0m\n",
      "\u001b[0;32m~/miniconda3/envs/pytorch/lib/python3.7/site-packages/pandas/io/parsers.py\u001b[0m in \u001b[0;36mparser_f\u001b[0;34m(filepath_or_buffer, sep, delimiter, header, names, index_col, usecols, squeeze, prefix, mangle_dupe_cols, dtype, engine, converters, true_values, false_values, skipinitialspace, skiprows, skipfooter, nrows, na_values, keep_default_na, na_filter, verbose, skip_blank_lines, parse_dates, infer_datetime_format, keep_date_col, date_parser, dayfirst, cache_dates, iterator, chunksize, compression, thousands, decimal, lineterminator, quotechar, quoting, doublequote, escapechar, comment, encoding, dialect, error_bad_lines, warn_bad_lines, delim_whitespace, low_memory, memory_map, float_precision)\u001b[0m\n\u001b[1;32m    683\u001b[0m         )\n\u001b[1;32m    684\u001b[0m \u001b[0;34m\u001b[0m\u001b[0m\n\u001b[0;32m--> 685\u001b[0;31m         \u001b[0;32mreturn\u001b[0m \u001b[0m_read\u001b[0m\u001b[0;34m(\u001b[0m\u001b[0mfilepath_or_buffer\u001b[0m\u001b[0;34m,\u001b[0m \u001b[0mkwds\u001b[0m\u001b[0;34m)\u001b[0m\u001b[0;34m\u001b[0m\u001b[0;34m\u001b[0m\u001b[0m\n\u001b[0m\u001b[1;32m    686\u001b[0m \u001b[0;34m\u001b[0m\u001b[0m\n\u001b[1;32m    687\u001b[0m     \u001b[0mparser_f\u001b[0m\u001b[0;34m.\u001b[0m\u001b[0m__name__\u001b[0m \u001b[0;34m=\u001b[0m \u001b[0mname\u001b[0m\u001b[0;34m\u001b[0m\u001b[0;34m\u001b[0m\u001b[0m\n",
      "\u001b[0;32m~/miniconda3/envs/pytorch/lib/python3.7/site-packages/pandas/io/parsers.py\u001b[0m in \u001b[0;36m_read\u001b[0;34m(filepath_or_buffer, kwds)\u001b[0m\n\u001b[1;32m    455\u001b[0m \u001b[0;34m\u001b[0m\u001b[0m\n\u001b[1;32m    456\u001b[0m     \u001b[0;31m# Create the parser.\u001b[0m\u001b[0;34m\u001b[0m\u001b[0;34m\u001b[0m\u001b[0;34m\u001b[0m\u001b[0m\n\u001b[0;32m--> 457\u001b[0;31m     \u001b[0mparser\u001b[0m \u001b[0;34m=\u001b[0m \u001b[0mTextFileReader\u001b[0m\u001b[0;34m(\u001b[0m\u001b[0mfp_or_buf\u001b[0m\u001b[0;34m,\u001b[0m \u001b[0;34m**\u001b[0m\u001b[0mkwds\u001b[0m\u001b[0;34m)\u001b[0m\u001b[0;34m\u001b[0m\u001b[0;34m\u001b[0m\u001b[0m\n\u001b[0m\u001b[1;32m    458\u001b[0m \u001b[0;34m\u001b[0m\u001b[0m\n\u001b[1;32m    459\u001b[0m     \u001b[0;32mif\u001b[0m \u001b[0mchunksize\u001b[0m \u001b[0;32mor\u001b[0m \u001b[0miterator\u001b[0m\u001b[0;34m:\u001b[0m\u001b[0;34m\u001b[0m\u001b[0;34m\u001b[0m\u001b[0m\n",
      "\u001b[0;32m~/miniconda3/envs/pytorch/lib/python3.7/site-packages/pandas/io/parsers.py\u001b[0m in \u001b[0;36m__init__\u001b[0;34m(self, f, engine, **kwds)\u001b[0m\n\u001b[1;32m    893\u001b[0m             \u001b[0mself\u001b[0m\u001b[0;34m.\u001b[0m\u001b[0moptions\u001b[0m\u001b[0;34m[\u001b[0m\u001b[0;34m\"has_index_names\"\u001b[0m\u001b[0;34m]\u001b[0m \u001b[0;34m=\u001b[0m \u001b[0mkwds\u001b[0m\u001b[0;34m[\u001b[0m\u001b[0;34m\"has_index_names\"\u001b[0m\u001b[0;34m]\u001b[0m\u001b[0;34m\u001b[0m\u001b[0;34m\u001b[0m\u001b[0m\n\u001b[1;32m    894\u001b[0m \u001b[0;34m\u001b[0m\u001b[0m\n\u001b[0;32m--> 895\u001b[0;31m         \u001b[0mself\u001b[0m\u001b[0;34m.\u001b[0m\u001b[0m_make_engine\u001b[0m\u001b[0;34m(\u001b[0m\u001b[0mself\u001b[0m\u001b[0;34m.\u001b[0m\u001b[0mengine\u001b[0m\u001b[0;34m)\u001b[0m\u001b[0;34m\u001b[0m\u001b[0;34m\u001b[0m\u001b[0m\n\u001b[0m\u001b[1;32m    896\u001b[0m \u001b[0;34m\u001b[0m\u001b[0m\n\u001b[1;32m    897\u001b[0m     \u001b[0;32mdef\u001b[0m \u001b[0mclose\u001b[0m\u001b[0;34m(\u001b[0m\u001b[0mself\u001b[0m\u001b[0;34m)\u001b[0m\u001b[0;34m:\u001b[0m\u001b[0;34m\u001b[0m\u001b[0;34m\u001b[0m\u001b[0m\n",
      "\u001b[0;32m~/miniconda3/envs/pytorch/lib/python3.7/site-packages/pandas/io/parsers.py\u001b[0m in \u001b[0;36m_make_engine\u001b[0;34m(self, engine)\u001b[0m\n\u001b[1;32m   1133\u001b[0m     \u001b[0;32mdef\u001b[0m \u001b[0m_make_engine\u001b[0m\u001b[0;34m(\u001b[0m\u001b[0mself\u001b[0m\u001b[0;34m,\u001b[0m \u001b[0mengine\u001b[0m\u001b[0;34m=\u001b[0m\u001b[0;34m\"c\"\u001b[0m\u001b[0;34m)\u001b[0m\u001b[0;34m:\u001b[0m\u001b[0;34m\u001b[0m\u001b[0;34m\u001b[0m\u001b[0m\n\u001b[1;32m   1134\u001b[0m         \u001b[0;32mif\u001b[0m \u001b[0mengine\u001b[0m \u001b[0;34m==\u001b[0m \u001b[0;34m\"c\"\u001b[0m\u001b[0;34m:\u001b[0m\u001b[0;34m\u001b[0m\u001b[0;34m\u001b[0m\u001b[0m\n\u001b[0;32m-> 1135\u001b[0;31m             \u001b[0mself\u001b[0m\u001b[0;34m.\u001b[0m\u001b[0m_engine\u001b[0m \u001b[0;34m=\u001b[0m \u001b[0mCParserWrapper\u001b[0m\u001b[0;34m(\u001b[0m\u001b[0mself\u001b[0m\u001b[0;34m.\u001b[0m\u001b[0mf\u001b[0m\u001b[0;34m,\u001b[0m \u001b[0;34m**\u001b[0m\u001b[0mself\u001b[0m\u001b[0;34m.\u001b[0m\u001b[0moptions\u001b[0m\u001b[0;34m)\u001b[0m\u001b[0;34m\u001b[0m\u001b[0;34m\u001b[0m\u001b[0m\n\u001b[0m\u001b[1;32m   1136\u001b[0m         \u001b[0;32melse\u001b[0m\u001b[0;34m:\u001b[0m\u001b[0;34m\u001b[0m\u001b[0;34m\u001b[0m\u001b[0m\n\u001b[1;32m   1137\u001b[0m             \u001b[0;32mif\u001b[0m \u001b[0mengine\u001b[0m \u001b[0;34m==\u001b[0m \u001b[0;34m\"python\"\u001b[0m\u001b[0;34m:\u001b[0m\u001b[0;34m\u001b[0m\u001b[0;34m\u001b[0m\u001b[0m\n",
      "\u001b[0;32m~/miniconda3/envs/pytorch/lib/python3.7/site-packages/pandas/io/parsers.py\u001b[0m in \u001b[0;36m__init__\u001b[0;34m(self, src, **kwds)\u001b[0m\n\u001b[1;32m   1904\u001b[0m         \u001b[0mkwds\u001b[0m\u001b[0;34m[\u001b[0m\u001b[0;34m\"usecols\"\u001b[0m\u001b[0;34m]\u001b[0m \u001b[0;34m=\u001b[0m \u001b[0mself\u001b[0m\u001b[0;34m.\u001b[0m\u001b[0musecols\u001b[0m\u001b[0;34m\u001b[0m\u001b[0;34m\u001b[0m\u001b[0m\n\u001b[1;32m   1905\u001b[0m \u001b[0;34m\u001b[0m\u001b[0m\n\u001b[0;32m-> 1906\u001b[0;31m         \u001b[0mself\u001b[0m\u001b[0;34m.\u001b[0m\u001b[0m_reader\u001b[0m \u001b[0;34m=\u001b[0m \u001b[0mparsers\u001b[0m\u001b[0;34m.\u001b[0m\u001b[0mTextReader\u001b[0m\u001b[0;34m(\u001b[0m\u001b[0msrc\u001b[0m\u001b[0;34m,\u001b[0m \u001b[0;34m**\u001b[0m\u001b[0mkwds\u001b[0m\u001b[0;34m)\u001b[0m\u001b[0;34m\u001b[0m\u001b[0;34m\u001b[0m\u001b[0m\n\u001b[0m\u001b[1;32m   1907\u001b[0m         \u001b[0mself\u001b[0m\u001b[0;34m.\u001b[0m\u001b[0munnamed_cols\u001b[0m \u001b[0;34m=\u001b[0m \u001b[0mself\u001b[0m\u001b[0;34m.\u001b[0m\u001b[0m_reader\u001b[0m\u001b[0;34m.\u001b[0m\u001b[0munnamed_cols\u001b[0m\u001b[0;34m\u001b[0m\u001b[0;34m\u001b[0m\u001b[0m\n\u001b[1;32m   1908\u001b[0m \u001b[0;34m\u001b[0m\u001b[0m\n",
      "\u001b[0;32mpandas/_libs/parsers.pyx\u001b[0m in \u001b[0;36mpandas._libs.parsers.TextReader.__cinit__\u001b[0;34m()\u001b[0m\n",
      "\u001b[0;32mpandas/_libs/parsers.pyx\u001b[0m in \u001b[0;36mpandas._libs.parsers.TextReader._setup_parser_source\u001b[0;34m()\u001b[0m\n",
      "\u001b[0;31mFileNotFoundError\u001b[0m: [Errno 2] File b'/data/isprs/holl2/1/isprs_tum_rnn_all/log.csv' does not exist: b'/data/isprs/holl2/1/isprs_tum_rnn_all/log.csv'"
     ]
    }
   ],
   "source": [
    "if True:\n",
    "    root = \"/data/isprs/holl2\"\n",
    "    tableroot = \"/home/marc/projects/ISPRS_CropTypeMapping/tables/holl2\"\n",
    "\n",
    "    exp=[\"isprs_gaf_rnn_holl\", \"isprs_gaf_transformer_holl\", \"isprs_gaf_msresnet_holl\", \"isprs_gaf_tempcnn_holl\"]\n",
    "    hollgaf_kappa, hollgaf_kappa_std, hollgaf_acc, hollgaf_acc_std = get_acc_kappa(exp,root=root)\n",
    "    exp=[\"isprs_tum_rnn_all\",\"isprs_tum_transformer_all\",\"isprs_tum_msresnet_all\", \"isprs_tum_tempcnn_all\"]\n",
    "    alltum_kappa, alltum_kappa_std, alltum_acc, alltum_acc_std = get_acc_kappa(exp,root=root)\n",
    "    exp = [\"isprs_tum_rnn_holl\", \"isprs_tum_transformer_holl\", \"isprs_tum_msresnet_holl\", \"isprs_tum_tempcnn_holl\"]\n",
    "    holltum_kappa, holltum_kappa_std, holltum_acc, holltum_acc_std = get_acc_kappa(exp,root=root)\n",
    "\n",
    "    print(\"kappa\")\n",
    "    print()\n",
    "    table=make_table(hollgaf_kappa,hollgaf_kappa_std,alltum_kappa,alltum_kappa_std, holltum_kappa,holltum_kappa_std,desc=\"oc.acc\")\n",
    "    print(table)\n",
    "    print()\n",
    "    fname = os.path.join(tableroot,\"kappa.tex\")\n",
    "    print(f\"writing to {fname}\")\n",
    "    print(table,file=open(fname,'w'))\n",
    "    print()\n",
    "    print(\"kappa\")\n",
    "    print()\n",
    "    table = make_table(hollgaf_acc,hollgaf_acc_std,alltum_acc,alltum_acc_std, holltum_acc,holltum_acc_std,desc=\"kappa\")\n",
    "    print(table)\n",
    "    print()\n",
    "    fname = os.path.join(tableroot,\"accuracy.tex\")\n",
    "    print(f\"writing to {fname}\")\n",
    "    print(table,\n",
    "          file=open(fname,'w'))\n",
    "    print()"
   ]
  },
  {
   "cell_type": "code",
   "execution_count": 11,
   "metadata": {},
   "outputs": [
    {
     "name": "stdout",
     "output_type": "stream",
     "text": [
      "kappa\n",
      "\n"
     ]
    },
    {
     "ename": "TypeError",
     "evalue": "make_table() missing 2 required positional arguments: 'train_on' and 'test_on'",
     "output_type": "error",
     "traceback": [
      "\u001b[0;31m---------------------------------------------------------------------------\u001b[0m",
      "\u001b[0;31mTypeError\u001b[0m                                 Traceback (most recent call last)",
      "\u001b[0;32m<ipython-input-11-5874f9cc7ac5>\u001b[0m in \u001b[0;36m<module>\u001b[0;34m\u001b[0m\n\u001b[1;32m      1\u001b[0m \u001b[0mprint\u001b[0m\u001b[0;34m(\u001b[0m\u001b[0;34m\"kappa\"\u001b[0m\u001b[0;34m)\u001b[0m\u001b[0;34m\u001b[0m\u001b[0;34m\u001b[0m\u001b[0m\n\u001b[1;32m      2\u001b[0m \u001b[0mprint\u001b[0m\u001b[0;34m(\u001b[0m\u001b[0;34m)\u001b[0m\u001b[0;34m\u001b[0m\u001b[0;34m\u001b[0m\u001b[0m\n\u001b[0;32m----> 3\u001b[0;31m \u001b[0mtable\u001b[0m\u001b[0;34m=\u001b[0m\u001b[0mmake_table\u001b[0m\u001b[0;34m(\u001b[0m\u001b[0mhollgaf_kappa\u001b[0m\u001b[0;34m,\u001b[0m\u001b[0mhollgaf_kappa_std\u001b[0m\u001b[0;34m,\u001b[0m\u001b[0malltum_kappa\u001b[0m\u001b[0;34m,\u001b[0m\u001b[0malltum_kappa_std\u001b[0m\u001b[0;34m,\u001b[0m \u001b[0mholltum_kappa\u001b[0m\u001b[0;34m,\u001b[0m\u001b[0mholltum_kappa_std\u001b[0m\u001b[0;34m,\u001b[0m\u001b[0mdesc\u001b[0m\u001b[0;34m=\u001b[0m\u001b[0;34m\"oc.acc\"\u001b[0m\u001b[0;34m)\u001b[0m\u001b[0;34m\u001b[0m\u001b[0;34m\u001b[0m\u001b[0m\n\u001b[0m\u001b[1;32m      4\u001b[0m \u001b[0mprint\u001b[0m\u001b[0;34m(\u001b[0m\u001b[0mtable\u001b[0m\u001b[0;34m)\u001b[0m\u001b[0;34m\u001b[0m\u001b[0;34m\u001b[0m\u001b[0m\n\u001b[1;32m      5\u001b[0m \u001b[0mprint\u001b[0m\u001b[0;34m(\u001b[0m\u001b[0;34m)\u001b[0m\u001b[0;34m\u001b[0m\u001b[0;34m\u001b[0m\u001b[0m\n",
      "\u001b[0;31mTypeError\u001b[0m: make_table() missing 2 required positional arguments: 'train_on' and 'test_on'"
     ]
    }
   ],
   "source": [
    "print(\"kappa\")\n",
    "print()\n",
    "table=make_table(hollgaf_kappa,hollgaf_kappa_std,alltum_kappa,alltum_kappa_std, holltum_kappa,holltum_kappa_std,desc=\"oc.acc\")\n",
    "print(table)\n",
    "print()\n",
    "fname = os.path.join(tableroot,\"kappa.tex\")\n",
    "print(f\"writing to {fname}\")\n",
    "print(table,file=open(fname,'w'))\n",
    "print()\n",
    "print(\"kappa\")\n",
    "print()\n",
    "table = make_table(hollgaf_acc,hollgaf_acc_std,alltum_acc,alltum_acc_std, holltum_acc,holltum_acc_std,desc=\"kappa\")\n",
    "print(table)\n",
    "print()\n",
    "fname = os.path.join(tableroot,\"accuracy.tex\")\n",
    "print(f\"writing to {fname}\")\n",
    "print(table,\n",
    "      file=open(fname,'w'))\n",
    "print()"
   ]
  },
  {
   "cell_type": "markdown",
   "metadata": {},
   "source": [
    "## Krumbach experiment\n",
    "\n",
    "Preprocessed model trained on KRUM\n",
    "raw model either trained on KRUM or KRUM+NOWA+HOLL\n",
    "\n",
    "## 23 classes"
   ]
  },
  {
   "cell_type": "code",
   "execution_count": 22,
   "metadata": {},
   "outputs": [
    {
     "name": "stdout",
     "output_type": "stream",
     "text": [
      "kappa\n",
      "\n",
      "\\begin{tabular}{lllcccc}\n",
      "\\toprule\n",
      "kappa & trained on & tested on & \\rnn & \\transformer & \\msresnet & \\tempcnn \\\\\n",
      "\\cmidrule(lr){4-4}\\cmidrule(lr){5-5}\\cmidrule(lr){6-6}\\cmidrule(lr){7-7}\n",
      "    \tprocessed & Krumbach & Krumbach & 0.86$^{\\pm0.01}$ & 0.87$^{\\pm0.00}$ & 0.73$^{\\pm0.13}$ & 0.87$^{\\pm0.02}$ \\\\ \n",
      "\traw       & Krumbach+Hollfeld+Bav.Forest & Krumbach & 0.80$^{\\pm0.01}$ & 0.77$^{\\pm0.04}$ & 0.78$^{\\pm0.02}$ & 0.74$^{\\pm0.03}$ \\\\ \n",
      "\traw       & Krumbach & Krumbach & 0.78$^{\\pm0.03}$ & 0.78$^{\\pm0.04}$ & 0.69$^{\\pm0.10}$ & 0.78$^{\\pm0.01}$ \\\\ \n",
      "\\bottomrule\n",
      "\\end{tabular}\n",
      "\n",
      "writing to /home/marc/projects/ISPRS_CropTypeMapping/tables/krum/kappa.tex\n",
      "\n",
      "accuracy\n",
      "\n",
      "\\begin{tabular}{lllcccc}\n",
      "\\toprule\n",
      "ov.acc & trained on & tested on & \\rnn & \\transformer & \\msresnet & \\tempcnn \\\\\n",
      "\\cmidrule(lr){4-4}\\cmidrule(lr){5-5}\\cmidrule(lr){6-6}\\cmidrule(lr){7-7}\n",
      "    \tprocessed & Krumbach & Krumbach & 0.91$^{\\pm0.00}$ & 0.91$^{\\pm0.00}$ & 0.80$^{\\pm0.11}$ & 0.91$^{\\pm0.02}$ \\\\ \n",
      "\traw       & Krumbach+Hollfeld+Bav.Forest & Krumbach & 0.87$^{\\pm0.01}$ & 0.85$^{\\pm0.03}$ & 0.85$^{\\pm0.02}$ & 0.84$^{\\pm0.02}$ \\\\ \n",
      "\traw       & Krumbach & Krumbach & 0.85$^{\\pm0.02}$ & 0.85$^{\\pm0.02}$ & 0.79$^{\\pm0.09}$ & 0.86$^{\\pm0.01}$ \\\\ \n",
      "\\bottomrule\n",
      "\\end{tabular}\n",
      "\n",
      "writing to /home/marc/projects/ISPRS_CropTypeMapping/tables/krum/accuracy.tex\n",
      "\n"
     ]
    }
   ],
   "source": [
    "root = \"/data/isprs/krum\"\n",
    "tableroot = \"/home/marc/projects/ISPRS_CropTypeMapping/tables/krum\"\n",
    "\n",
    "exp=[\"isprs_gaf_rnn_krum\", \"isprs_gaf_transformer_krum\", \"isprs_gaf_msresnet_krum\", \"isprs_gaf_tempcnn_krum\"]\n",
    "krumgaf_kappa, krumgaf_kappa_std, krumgaf_acc, krumgaf_acc_std = get_acc_kappa(exp,root=root)\n",
    "exp=[\"isprs_tum_rnn_allkrum\",\"isprs_tum_transformer_allkrum\",\"isprs_tum_msresnet_allkrum\", \"isprs_tum_tempcnn_allkrum\"]\n",
    "alltum_kappa, alltum_kappa_std, alltum_acc, alltum_acc_std = get_acc_kappa(exp,root=root)\n",
    "exp = [\"isprs_tum_rnn_krum\", \"isprs_tum_transformer_krum\", \"isprs_tum_msresnet_krum\", \"isprs_tum_tempcnn_krum\"]\n",
    "krumtum_kappa, krumtum_kappa_std, krumtum_acc, krumtum_acc_std = get_acc_kappa(exp,root=root)\n",
    "\n",
    "train_on = [\"Krumbach\",\"Krumbach+Hollfeld+Bav.Forest\",\"Krumbach\"]\n",
    "test_on = [\"Krumbach\",\"Krumbach\",\"Krumbach\"]\n",
    "\n",
    "print(\"kappa\")\n",
    "print()\n",
    "table = make_table(krumgaf_kappa,krumgaf_kappa_std,alltum_kappa,alltum_kappa_std, krumtum_kappa,krumtum_kappa_std,\n",
    "                   \"kappa\",train_on,test_on)\n",
    "print(table)\n",
    "print()\n",
    "fname = os.path.join(tableroot,\"kappa.tex\")\n",
    "print(f\"writing to {fname}\")\n",
    "print(table,\n",
    "      file=open(fname,'w'))\n",
    "print()\n",
    "print(\"accuracy\")\n",
    "print()\n",
    "table=make_table(krumgaf_acc,krumgaf_acc_std,alltum_acc,alltum_acc_std, krumtum_acc,krumtum_acc_std,\n",
    "                 \"ov.acc\",train_on,test_on)\n",
    "print(table)\n",
    "print()\n",
    "fname = os.path.join(tableroot,\"accuracy.tex\")\n",
    "print(f\"writing to {fname}\")\n",
    "print(table,\n",
    "      file=open(fname,'w'))\n",
    "print()"
   ]
  },
  {
   "cell_type": "markdown",
   "metadata": {},
   "source": [
    "## 12 classes"
   ]
  },
  {
   "cell_type": "code",
   "execution_count": 233,
   "metadata": {},
   "outputs": [],
   "source": [
    "if False:\n",
    "    root = \"/data/isprs/krum2\"\n",
    "    tableroot = \"/home/marc/projects/ISPRS_CropTypeMapping/tables/krum2\"\n",
    "\n",
    "    exp=[\"isprs_gaf_rnn_krum\", \"isprs_gaf_transformer_krum\", \"isprs_gaf_msresnet_krum\", \"isprs_gaf_tempcnn_krum\"]\n",
    "    krumgaf_kappa, krumgaf_kappa_std, krumgaf_acc, krumgaf_acc_std = get_acc_kappa(exp,root=root)\n",
    "    exp=[\"isprs_tum_rnn_allkrum\",\"isprs_tum_transformer_allkrum\",\"isprs_tum_msresnet_allkrum\", \"isprs_tum_tempcnn_allkrum\"]\n",
    "    alltum_kappa, alltum_kappa_std, alltum_acc, alltum_acc_std = get_acc_kappa(exp,root=root)\n",
    "    exp = [\"isprs_tum_rnn_krum\", \"isprs_tum_transformer_krum\", \"isprs_tum_msresnet_krum\", \"isprs_tum_tempcnn_krum\"]\n",
    "    krumtum_kappa, krumtum_kappa_std, krumtum_acc, krumtum_acc_std = get_acc_kappa(exp,root=root)\n",
    "\n",
    "    print(\"kappa\")\n",
    "    print()\n",
    "    table = make_table(krumgaf_kappa,krumgaf_kappa_std,alltum_kappa,alltum_kappa_std, krumtum_kappa,krumtum_kappa_std,desc=\"kappa\")\n",
    "    print(table)\n",
    "    print()\n",
    "    fname = os.path.join(tableroot,\"kappa.tex\")\n",
    "    print(f\"writing to {fname}\")\n",
    "    print(table,\n",
    "          file=open(fname,'w'))\n",
    "    print()\n",
    "    print(\"accuracy\")\n",
    "    print()\n",
    "    table=make_table(krumgaf_acc,krumgaf_acc_std,alltum_acc,alltum_acc_std, krumtum_acc,krumtum_acc_std,\"ov.acc\")\n",
    "    print(table)\n",
    "    print()\n",
    "    fname = os.path.join(tableroot,\"accuracy.tex\")\n",
    "    print(f\"writing to {fname}\")\n",
    "    print(table,\n",
    "          file=open(fname,'w'))\n",
    "    print()"
   ]
  },
  {
   "cell_type": "code",
   "execution_count": null,
   "metadata": {},
   "outputs": [],
   "source": []
  }
 ],
 "metadata": {
  "kernelspec": {
   "display_name": "Python 3",
   "language": "python",
   "name": "python3"
  },
  "language_info": {
   "codemirror_mode": {
    "name": "ipython",
    "version": 3
   },
   "file_extension": ".py",
   "mimetype": "text/x-python",
   "name": "python",
   "nbconvert_exporter": "python",
   "pygments_lexer": "ipython3",
   "version": "3.7.3"
  }
 },
 "nbformat": 4,
 "nbformat_minor": 2
}

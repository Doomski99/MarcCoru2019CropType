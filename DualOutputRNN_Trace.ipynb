{
 "cells": [
  {
   "cell_type": "markdown",
   "metadata": {},
   "source": [
    "# An example of early classification using RNNs\n",
    "\n",
    "Let's start by loading data using `tslearn`."
   ]
  },
  {
   "cell_type": "code",
   "execution_count": null,
   "metadata": {},
   "outputs": [],
   "source": [
    "import tensorflow as tf\n",
    "import numpy as np\n",
    "from tslearn.datasets import CachedDatasets\n",
    "from model import DualOutputRNN\n",
    "\n",
    "X_train, y_train, X_test, y_test = CachedDatasets().load_dataset(\"Trace\")\n",
    "y_train = tf.keras.utils.to_categorical(y_train)"
   ]
  },
  {
   "cell_type": "code",
   "execution_count": null,
   "metadata": {},
   "outputs": [],
   "source": [
    "tf.set_random_seed(0)\n",
    "np.random.seed(0)\n",
    "\n",
    "model = DualOutputRNN(n_classes=y_train.shape[1],\n",
    "                      batch_size=10,\n",
    "                      ts_size=X_train.shape[1],\n",
    "                      epochs=200,\n",
    "                      earliness_factor=.01,\n",
    "                      lr=.001,\n",
    "                      reg=.01)\n",
    "model.fit(X_train, y_train)"
   ]
  },
  {
   "cell_type": "code",
   "execution_count": null,
   "metadata": {},
   "outputs": [],
   "source": [
    "y_pred, tau_pred = model.predict(X_test)\n",
    "for yi, yi_hat, taui in zip(y_test, y_pred, tau_pred):\n",
    "    print(yi, yi_hat, taui)"
   ]
  },
  {
   "cell_type": "markdown",
   "metadata": {},
   "source": [
    "## Sanity tests\n",
    "\n",
    "Some tests to check if our assumptions are correct\n",
    "\n",
    "### 1. Insert random values at the initial timeframes.\n",
    "\n",
    "Inserting random values at the beginning of the timeseries should delay the classification decision.\n",
    "`taui` should be optimally equivalent to the values above plus the number of padded random values `pad`\n",
    "\n",
    "This should make the taus longer since the classification-relevant information is actually comming later in the timeseries. "
   ]
  },
  {
   "cell_type": "code",
   "execution_count": null,
   "metadata": {},
   "outputs": [],
   "source": [
    "def one_hot(a, num_classes):\n",
    "    return np.squeeze(np.eye(num_classes)[a.reshape(-1)])\n",
    "\n",
    "tf.set_random_seed(0)\n",
    "np.random.seed(0)\n",
    "\n",
    "# number if padded times\n",
    "npad = 10\n",
    "\n",
    "randompadded_X_train = np.append(arr=np.random.rand(X_train.shape[0],npad,X_train.shape[2]),values=X_train,axis=1)\n",
    "randompadded_X_test = np.append(arr=np.random.rand(X_test.shape[0],npad,X_test.shape[2]),values=X_test,axis=1)\n",
    "\n",
    "randompadded_model = DualOutputRNN(n_classes=y_train.shape[1],\n",
    "                      batch_size=10,\n",
    "                      ts_size=randompadded_X_train.shape[1],\n",
    "                      epochs=200,\n",
    "                      earliness_factor=.01,\n",
    "                      lr=.001,\n",
    "                      reg=.01)\n",
    "\n",
    "randompadded_model.fit(randompadded_X_train, y_train)"
   ]
  },
  {
   "cell_type": "code",
   "execution_count": null,
   "metadata": {},
   "outputs": [],
   "source": [
    "y_pred, tau_pred = randompadded_model.predict(randompadded_X_test)\n",
    "for yi, yi_hat, taui in zip(y_test, y_pred, tau_pred):\n",
    "    print(yi, yi_hat, taui)"
   ]
  },
  {
   "cell_type": "code",
   "execution_count": null,
   "metadata": {},
   "outputs": [],
   "source": [
    "one_hot(np.random.randint(5,size=(100)),5)"
   ]
  },
  {
   "cell_type": "markdown",
   "metadata": {},
   "source": [
    "### 2. Insert a new class that always has the same representation through time\n",
    "\n",
    "For this class the optimal time of classification should always be the first one since other time observations do not bring further information about this class"
   ]
  },
  {
   "cell_type": "code",
   "execution_count": null,
   "metadata": {},
   "outputs": [],
   "source": [
    "np.random.seed(0)\n",
    "\n",
    "def insert_prototype_as_new_class_to_dataset(X, y, prototype_array, ncopies):\n",
    "    \"\"\"\n",
    "    Insert copies of a prototype timeseries in into the dataset as new class\n",
    "    \"\"\"\n",
    "    \n",
    "    # repeat and append the prototype array at the beginning of X\n",
    "    new_samples = np.repeat(prototype_array,ncopies,axis=0)\n",
    "    X_ = np.append(arr=new_samples,values=X,axis=0)\n",
    "    \n",
    "    # extend the old one hot class labels by zeros for the new class\n",
    "    y_extended = np.pad(y_train,((0,0),(0,1)),mode='constant', constant_values=0)\n",
    "    \n",
    "    # add new one hot classes with ones at new class\n",
    "    y_newclass = np.pad(np.zeros([ncopies,y_train.shape[1]]),((0,0),(0,1)),mode='constant',constant_values=1)\n",
    "    \n",
    "    # append the new class labels at the beginning of y\n",
    "    y_ = np.append(arr=y_newclass,values=y_extended,axis=0)\n",
    "    \n",
    "    # shuffle X_ and y_ in unison\n",
    "    randomize = np.arange(y_.shape[0])\n",
    "    np.random.shuffle(randomize)\n",
    "    X_ = X_[randomize]\n",
    "    y_ = y_[randomize]\n",
    "\n",
    "    return X_, y_\n",
    "\n",
    "prototype_array = np.random.rand(1,X_train.shape[1],1)\n",
    "X_train_aug, y_train_aug = insert_prototype_as_new_class_to_dataset(X_train, y_train, prototype_array, ncopies=25)\n",
    "X_test_aug, y_test_aug = insert_prototype_as_new_class_to_dataset(X_test, y_test, prototype_array, ncopies=25)"
   ]
  },
  {
   "cell_type": "code",
   "execution_count": null,
   "metadata": {},
   "outputs": [],
   "source": [
    "tf.set_random_seed(0)\n",
    "np.random.seed(0)\n",
    "\n",
    "model = DualOutputRNN(n_classes=y_train_aug.shape[1],\n",
    "                      batch_size=10,\n",
    "                      ts_size=X_train_aug.shape[1],\n",
    "                      epochs=200,\n",
    "                      earliness_factor=.01,\n",
    "                      lr=.001,\n",
    "                      reg=.01)\n",
    "model.fit(X_train_aug, y_train_aug)"
   ]
  },
  {
   "cell_type": "code",
   "execution_count": null,
   "metadata": {},
   "outputs": [],
   "source": [
    "y_pred, tau_pred = model.predict(X_test_aug)\n",
    "for yi, yi_hat, taui in zip(y_test_aug, y_pred, tau_pred):\n",
    "    print(yi, yi_hat, taui)"
   ]
  }
 ],
 "metadata": {
  "kernelspec": {
   "display_name": "Python 3",
   "language": "python",
   "name": "python3"
  },
  "language_info": {
   "codemirror_mode": {
    "name": "ipython",
    "version": 3
   },
   "file_extension": ".py",
   "mimetype": "text/x-python",
   "name": "python",
   "nbconvert_exporter": "python",
   "pygments_lexer": "ipython3",
   "version": "3.6.6"
  }
 },
 "nbformat": 4,
 "nbformat_minor": 2
}
